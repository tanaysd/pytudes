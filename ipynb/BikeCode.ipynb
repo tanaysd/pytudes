{
 "cells": [
  {
   "cell_type": "markdown",
   "metadata": {},
   "source": [
    "<div align=\"right\" style=\"text-align: right\"><i>Peter Norvig, Oct 2017<br>pandas Aug 2020<br>Data updated monthly</i></div>\n",
    "\n",
    "# Bike Stats Code\n",
    "\n",
    "Code to support the analysis in the notebook [Bike-Stats.ipynb](Bike-Stats.ipynb)."
   ]
  },
  {
   "cell_type": "code",
   "execution_count": 20,
   "metadata": {},
   "outputs": [],
   "source": [
    "from IPython.core.display import HTML\n",
    "from typing import Iterator, Iterable, Tuple, List, Dict\n",
    "from collections import namedtuple\n",
    "import matplotlib\n",
    "import matplotlib.pyplot as plt\n",
    "import numpy  as np\n",
    "import pandas as pd\n",
    "import re"
   ]
  },
  {
   "cell_type": "markdown",
   "metadata": {},
   "source": [
    "# Reading Data: `rides` and `yearly`\n",
    "\n",
    "I saved a bunch of my recorded [Strava](https://www.strava.com/athletes/575579) rides, most of them longer than 25 miles, as [`bikerides.tsv`](bikerides.tsv).  The columns are: the date; the year; a title; the elapsed time of the ride; the length of the ride in miles; and the total climbing in feet, e.g.: \n",
    "\n",
    "    Mon, 10/5\t2020\tHalf way around the bay on bay trail\t6:26:35\t80.05\t541\n",
    "    \n",
    "I parse the file into the pandas dataframe `rides`, adding derived columns for miles per hour, vertical meters climbed per hour (VAM), grade in feet per mile, grade in percent, and kilometers ridden:"
   ]
  },
  {
   "cell_type": "code",
   "execution_count": 35,
   "metadata": {},
   "outputs": [],
   "source": [
    "def parse_rides(lines):\n",
    "    \"\"\"Parse a bikerides.tsv file.\"\"\"\n",
    "    return drop_index(add_columns(pd.read_table(lines, comment='#',\n",
    "                       converters=dict(hours=parse_hours, feet=parse_int))))\n",
    "\n",
    "def parse_hours(time: str) -> float: \n",
    "    \"\"\"Parse '4:30:00' => 4.5 hours.\"\"\"\n",
    "    hrs = sum(int(x) * 60 ** (i - 2) \n",
    "              for i, x in enumerate(reversed(time.split(':'))))\n",
    "    return round(hrs, 2)\n",
    "\n",
    "def parse_int(field: str) -> int: return int(field.replace(',', ''))\n",
    "\n",
    "def add_columns(rides) -> pd.DataFrame:\n",
    "    \"\"\"Compute new columns from existing ones.\"\"\"\n",
    "    mi, hr, ft = rides['miles'], rides['hours'], rides['feet']\n",
    "    return rides.assign(\n",
    "        mph=round(mi / hr, 2),\n",
    "        vam=round(ft / hr / 3.28084),\n",
    "        fpm=round(ft / mi),\n",
    "        pct=round(ft / mi * 100 / 5280, 2),\n",
    "        kms=round(mi * 1.609, 2))\n",
    "\n",
    "def drop_index(frame) -> pd.DataFrame:\n",
    "    \"\"\"Drop the index column.\"\"\"\n",
    "    frame.index = [''] * len(frame)\n",
    "    return frame"
   ]
  },
  {
   "cell_type": "code",
   "execution_count": 39,
   "metadata": {},
   "outputs": [],
   "source": [
    "rides  = parse_rides(open('bikerides.tsv'))\n",
    "yearly = parse_rides(open('bikeyears.tsv')).drop(columns=['date', 'title'])"
   ]
  },
  {
   "cell_type": "markdown",
   "metadata": {},
   "source": [
    "# Reading Data: `segments`\n",
    "\n",
    "I picked some representative climbing segments ([`bikesegments.csv`](bikesegments.csv)) with the segment length in miles and climb in feet, along with several of my times on the segment. A line like\n",
    "\n",
    "    Old La Honda, 2.98, 1255, 28:49, 34:03, 36:44\n",
    "    \n",
    "means that this segment of Old La Honda Rd is 2.98 miles long, 1255 feet of climbing, and I've selected three times for my rides on that segment: the fastest, middle, and slowest of the times  that Strava shows. (However, I ended up dropping the slowest time in the charts to make them less busy.)"
   ]
  },
  {
   "cell_type": "code",
   "execution_count": 23,
   "metadata": {},
   "outputs": [],
   "source": [
    "def parse_segments(lines) -> pd.DataFrame:\n",
    "    \"\"\"Parse segments into rides. Each ride is a tuple of:\n",
    "    (segment_title, time,  miles, feet_climb).\"\"\"\n",
    "    records = []\n",
    "    for segment in lines:\n",
    "        title, mi, ft, *times = segment.split(',')[:5]\n",
    "        for time in times:\n",
    "            records.append((title, parse_hours(time), float(mi), parse_int(ft)))\n",
    "    return add_columns(pd.DataFrame(records, columns=('title', 'hours', 'miles', 'feet')))"
   ]
  },
  {
   "cell_type": "code",
   "execution_count": 24,
   "metadata": {},
   "outputs": [],
   "source": [
    "segments = parse_segments(open('bikesegments.csv'))"
   ]
  },
  {
   "cell_type": "markdown",
   "metadata": {},
   "source": [
    "# Reading Data: `places` and `tiles`\n",
    "\n",
    "Monthly, I will take my [summary data from wandrer.earth](https://wandrer.earth/athletes/3534/santa-clara-county-california) and enter it in the file [bikeplaces.csv](bikeplaces.csv), in a format where\n",
    "\n",
    "      San Carlos,99.0,SMC,22.2,26.0,32.9,,37.2,39.0,40.5,,41.4,,,41.7,,,,,,59.5,78.7\n",
    "means that San Carlos has 99.0 miles of roads, is in San Mateo County (SMC), and in the first month that I had ridden 22.2% of the roads in the first month that I kept track, and 78.7% in the most recent month. In months with no entry, there was no change."
   ]
  },
  {
   "cell_type": "code",
   "execution_count": 25,
   "metadata": {},
   "outputs": [],
   "source": [
    "places = pd.read_csv('bikeplaces.csv', comment='#')\n",
    "months = [m for m in places.columns if '/' in m]\n",
    "places['maxpct'] = [max(p for p in place[4:] if not pd.isna(p))\n",
    "                    for place in places.itertuples()]"
   ]
  },
  {
   "cell_type": "code",
   "execution_count": 41,
   "metadata": {},
   "outputs": [
    {
     "data": {
      "text/html": [
       "<div>\n",
       "<style scoped>\n",
       "    .dataframe tbody tr th:only-of-type {\n",
       "        vertical-align: middle;\n",
       "    }\n",
       "\n",
       "    .dataframe tbody tr th {\n",
       "        vertical-align: top;\n",
       "    }\n",
       "\n",
       "    .dataframe thead th {\n",
       "        text-align: right;\n",
       "    }\n",
       "</style>\n",
       "<table border=\"1\" class=\"dataframe\">\n",
       "  <thead>\n",
       "    <tr style=\"text-align: right;\">\n",
       "      <th></th>\n",
       "      <th>date</th>\n",
       "      <th>tiles</th>\n",
       "      <th>square</th>\n",
       "      <th>cluster</th>\n",
       "    </tr>\n",
       "  </thead>\n",
       "  <tbody>\n",
       "    <tr>\n",
       "      <th></th>\n",
       "      <td>Sep 2022</td>\n",
       "      <td>2481</td>\n",
       "      <td>11x11</td>\n",
       "      <td>295</td>\n",
       "    </tr>\n",
       "  </tbody>\n",
       "</table>\n",
       "</div>"
      ],
      "text/plain": [
       "      date  tiles square  cluster\n",
       "  Sep 2022   2481  11x11      295"
      ]
     },
     "execution_count": 41,
     "metadata": {},
     "output_type": "execute_result"
    }
   ],
   "source": [
    "tiles  = drop_index(pd.DataFrame(columns='date tiles square cluster'.split(),\n",
    "                                 data=[('Sep 2022', 2481, '11x11', 295)]))"
   ]
  },
  {
   "cell_type": "markdown",
   "metadata": {},
   "source": [
    "# Plotting and Curve-Fitting"
   ]
  },
  {
   "cell_type": "code",
   "execution_count": 27,
   "metadata": {},
   "outputs": [],
   "source": [
    "plt.rcParams[\"figure.figsize\"] = (12, 6)\n",
    "\n",
    "def show(X, Y, data, title='', degrees=(2, 3)): \n",
    "    \"\"\"Plot X versus Y and a best fit curve to it, with some bells and whistles.\"\"\"\n",
    "    grid(); plt.ylabel(Y); plt.xlabel(X); plt.title(title)\n",
    "    plt.scatter(X, Y, data=data, c='grey', marker='+')\n",
    "    X1 = np.linspace(min(data[X]), max(data[X]), 100)\n",
    "    for degree in degrees:\n",
    "        F = poly_fit(data[X], data[Y], degree)\n",
    "        plt.plot(X1, [F(x) for x in X1], '-')\n",
    "    \n",
    "def grid(axis='both'): \n",
    "    \"Turn on the grid.\"\n",
    "    plt.minorticks_on() \n",
    "    plt.grid(which='major', ls='-', alpha=3/4, axis=axis)\n",
    "    plt.grid(which='minor', ls=':', alpha=1/2, axis=axis)\n",
    "    \n",
    "def poly_fit(X, Y, degree: int) -> callable:\n",
    "    \"\"\"The polynomial function that best fits the X,Y vectors.\"\"\"\n",
    "    coeffs = np.polyfit(X, Y, degree)[::-1]\n",
    "    return lambda x: sum(c * x ** i for i, c in enumerate(coeffs)) \n",
    "\n",
    "estimator = poly_fit(rides['feet'] / rides['miles'], \n",
    "                   rides['miles'] / rides['hours'], 2)\n",
    "\n",
    "def estimate(miles, feet, estimator=estimator) -> float:\n",
    "    \"\"\"Given a ride distance in miles and total climb in feet, estimate time in minutes.\"\"\"\n",
    "    return round(60 * miles / estimator(feet / miles))\n",
    "\n",
    "def top(frame, field, n=20): return frame.sort_values(field, ascending=False).head(n)"
   ]
  },
  {
   "cell_type": "markdown",
   "metadata": {},
   "source": [
    "# Plotting Wandrer Places"
   ]
  },
  {
   "cell_type": "code",
   "execution_count": 28,
   "metadata": {},
   "outputs": [],
   "source": [
    "special_areas = dict(sf='San Francisco Neighborhoods', sj='San Jose Neighborhoods', \n",
    "                     far='Far Away Places', county='Bay Area Counties', big='California, USA and Earth')\n",
    "\n",
    "def wandering(places, pcts=(100, 99, 90, 50, 33.3, 25, 0), special_areas=special_areas):\n",
    "    \"Plot charts within the various percent ranges, and special groups.\"\n",
    "    for i in range(len(pcts) - 1):\n",
    "        hi, lo = pcts[i], pcts[i + 1]\n",
    "        inrange = places[(places.maxpct > lo) & (places.maxpct <= hi) & ~places.area.isin(special_areas)]\n",
    "        wandrer_plot(f'Places with {lo}% to {hi}% roads traveled', inrange)\n",
    "    for area in special_areas:\n",
    "        wandrer_plot(special_areas[area], places[places.area == area])\n",
    "        \n",
    "def wandrer_plot(title, places):\n",
    "    \"\"\"Plot Wandrer.earth data for the places with given abbrevs.\"\"\"\n",
    "    if len(places) == 0:\n",
    "        return # Don't make an empty plot\n",
    "    places = places.sort_values(by='maxpct', ascending=False)\n",
    "    fig, ax = plt.figure(), plt.subplot(111); \n",
    "    plt.plot()\n",
    "    for (_, name, miles, area, *pcts, maxpct), marker in zip(places.itertuples(), markers):\n",
    "        pcts = replace_nans(pcts)\n",
    "        ax.plot(pcts, ':', marker=marker, label=label(pcts, name, miles))\n",
    "    ax.legend(loc='center left', bbox_to_anchor=(1, 0.5), shadow=True,\n",
    "              prop=matplotlib.font_manager.FontProperties(family='monospace'))\n",
    "    plt.xticks(range(len(pcts)), labels=months, rotation=90, fontfamily='monospace')\n",
    "    plt.ylabel('Percent of Roads Ridden')\n",
    "    plt.title(title); plt.tight_layout(); grid(axis='y'); plt.show()\n",
    "    \n",
    "markers = '^v><osdhxDHPX*' * 3 # Matplotlib markers\n",
    "bonuses = (0.02, 0.1, 2, 25, 50, 90, 99)   # Percents that earn important bonuses\n",
    "\n",
    "def label(pcts, name, miles) -> str:\n",
    "    \"\"\"Make a label for the legend.\"\"\"\n",
    "    pct = f'{rounded(pcts[-1]):>3}' if pcts[-1] > 1.4 else f'{pcts[-1]}'\n",
    "    done = miles * pcts[-1]\n",
    "    bonus = next((f' {rounded((p - pcts[-1]) / 100 * miles):>3} to {p}%' \n",
    "                  for p in bonuses if p >= pcts[-1]), '')\n",
    "    return f'{pct}% ({rounded(done / 100):>3}/{rounded(miles):<3} mi){bonus} {name}'\n",
    "                                                                                          \n",
    "def replace_nans(numbers) -> list:\n",
    "    \"\"\"Replace NaN (not a number) values with the previous actual number.\"\"\"\n",
    "    result = []\n",
    "    prev = 0\n",
    "    for x in numbers:\n",
    "        if x == x:\n",
    "            prev = x\n",
    "        else: # Not a Number \n",
    "            x = prev\n",
    "        result.append(x)\n",
    "    return result                                                                           \n",
    "\n",
    "def rounded(x: float) -> str: \n",
    "    \"\"\"Round x to 3 spaces wide (if possible).\"\"\"\n",
    "    return f'{round(x):,d}' if x > 10 else f'{x:.1f}'"
   ]
  },
  {
   "cell_type": "markdown",
   "metadata": {},
   "source": [
    "# Pareto Front  "
   ]
  },
  {
   "cell_type": "code",
   "execution_count": 34,
   "metadata": {},
   "outputs": [],
   "source": [
    "def make_leaders(data):\n",
    "    \"\"\"Make a dataframe of leaders in two counties.\"\"\"\n",
    "    leaders = pd.DataFrame(data, columns=['Name', 'Initials', 'SMC %', 'SCC %', 'Front?'])\n",
    "    leaders['SMC miles'] = [round(29.51 * d[2]) for d in data]\n",
    "    leaders['SCC miles'] = [round(75.64 * d[3]) for d in data]\n",
    "    leaders['Total miles'] = leaders['SMC miles'] + leaders['SCC miles']\n",
    "    leaders['Total %'] = leaders['SMC %'] + leaders['SCC %']\n",
    "    return drop_index(leaders.sort_values('Total %', ascending=False))\n",
    "\n",
    "leaders = make_leaders([ # Data as of Sept 8, 2022\n",
    "    ('Barry Mann', 'BM', 75.34, 29.32, 1),   ('Jason Molenda', 'JM', 7.13, 54.59, 1),  \n",
    "    ('Peter Norvig', 'PN', 55.26, 30.31, 1), ('Brian Feinberg', 'BF', 29.72, 35.93, 1),\n",
    "    ('Jim Brooks', 'JB', 4.23, 43.53, 0),    ('Megan Gardner', 'MG', 92.51, 8.69, 1),\n",
    "    ('Matthew Ring', 'MR', 75.53, 1.48, 0),  ('Elliot  Huff', 'EF', 51.78, 8.14, 0)])\n",
    "                   \n",
    "def pareto_front(leaders):\n",
    "    ax = leaders.plot('SMC %', 'SCC %', grid=True, kind='scatter')\n",
    "    front = sorted((x, y) for i, (_, _, x, y, f, *_) in leaders.iterrows() if f)\n",
    "    ax.plot(*zip(*front), ':'); ax.axis('square'); grid()\n",
    "    for i, (name, initials, x, y, *_) in leaders.iterrows():\n",
    "        ax.text(x - 2, y + 2, initials)\n",
    "    return leaders.drop(columns=['Front?'])"
   ]
  },
  {
   "cell_type": "markdown",
   "metadata": {},
   "source": [
    "# Eddington Number"
   ]
  },
  {
   "cell_type": "code",
   "execution_count": 30,
   "metadata": {},
   "outputs": [],
   "source": [
    "def Ed_number(rides, units) -> int:\n",
    "    \"\"\"Eddington number: The maximum integer e such that you have bicycled \n",
    "    a distance of at least e on at least e days.\"\"\"\n",
    "    distances = sorted(rides[units], reverse=True)\n",
    "    return max(e for e, d in enumerate(distances, 1) if d >= e)\n",
    "\n",
    "def Ed_gap(distances, target) -> int:\n",
    "    \"\"\"The number of rides needed to reach an Eddington number target.\"\"\"\n",
    "    return target - sum(distances >= target)\n",
    "\n",
    "def Ed_gaps(rides, N=10) -> dict:\n",
    "    \"\"\"A table of gaps to Eddington numbers by year, and a plot..\"\"\"\n",
    "    E_km = Ed_number(rides, 'kms')\n",
    "    E_mi = Ed_number(rides, 'miles')\n",
    "    data = [(E_km + d, Ed_gap(rides.kms,   E_km + d), \n",
    "             E_mi + d, Ed_gap(rides.miles, E_mi + d))\n",
    "            for d in range(N)]\n",
    "    df = pd.DataFrame(data, columns=['kms', 'kms gap', 'miles', 'miles gap'])\n",
    "    return drop_index(df)\n",
    "\n",
    "def Ed_progress(rides, years=reversed(range(2013, 2022 + 1))) -> pd.DataFrame:\n",
    "    \"\"\"A table of Eddington numbers by year, and a plot.\"\"\"\n",
    "    def Ed(year, unit): return Ed_number(rides[rides['year'] <= year], unit)\n",
    "    data  = [(y, Ed(y, 'kms'), Ed(y, 'miles')) for y in years]\n",
    "    df = pd.DataFrame(data, columns=['year', 'Ed_km', 'Ed_mi'])\n",
    "    return drop_index(df)"
   ]
  },
  {
   "cell_type": "markdown",
   "metadata": {},
   "source": [
    "# Climbing to Space"
   ]
  },
  {
   "cell_type": "code",
   "execution_count": 31,
   "metadata": {},
   "outputs": [],
   "source": [
    "per_month_climbing = [35.491, 31.765, 39.186, 33.641, 32.782, 14.809, 46.731, 38.556]\n",
    "\n",
    "space = {'100 kms': 328.204, '10 Everests': 290.320, '50 miles': 50 * 5.280}\n",
    "\n",
    "def climbing(per_month=per_month_climbing, space=space):\n",
    "    \"\"\"Plot progress in climbing\"\"\"\n",
    "    total = np.cumsum(per_month)\n",
    "    for label in space:\n",
    "        plt.plot(range(12), [space[label]] * 12, ':', label=label)\n",
    "    plt.plot(range(len(total)), total, 'o-', label='my total')\n",
    "    plt.plot(range(len(total)), per_month, 's-.', label='per month')\n",
    "    plt.legend(loc=(1.04, .64), fontsize='large'); grid()\n",
    "    plt.xlabel('Month of 2022'); plt.ylabel('Total climbing (Kft)')\n",
    "    plt.xticks(range(12), 'Jan Feb Mar Apr May Jun Jul Aug Sep Oct Nov Dec'.split())"
   ]
  }
 ],
 "metadata": {
  "kernelspec": {
   "display_name": "Python 3 (ipykernel)",
   "language": "python",
   "name": "python3"
  },
  "language_info": {
   "codemirror_mode": {
    "name": "ipython",
    "version": 3
   },
   "file_extension": ".py",
   "mimetype": "text/x-python",
   "name": "python",
   "nbconvert_exporter": "python",
   "pygments_lexer": "ipython3",
   "version": "3.9.12"
  }
 },
 "nbformat": 4,
 "nbformat_minor": 4
}
