{
 "cells": [
  {
   "cell_type": "markdown",
   "metadata": {},
   "source": [
    "<div style=\"text-align: right\"><i>Peter Norvig<br>April 2020</i></div>\n",
    "\n",
    "# The Stable Matching Problem\n",
    "\n",
    "The **[stable matching problem](https://en.wikipedia.org/wiki/Stable_marriage_problem#Algorithmic_solution)** involves two equally-sized disjoint sets of actors that want to pair off in a way that maximizes happiness. It could be a set of women and a set of men that want to pair off in heterosexual marriage; or a a set of job-seekers and a set of employers. Every year, there is a large-scale application of this problem in which:\n",
    "- Graduating medical students state which hospitals they would prefer to be residents at.\n",
    "- Hospitals in turn state which students they prefer. \n",
    "- An algorithm finds a stable matching.\n",
    "\n",
    "Each actor has **preferences** for who they would like to be matched with. A matching is **stable** if it is **not** the case that there is an actor from one side and an actor from the other side who both have a higher preference for each other than they have for who they are currently matched with. \n",
    "\n",
    "In the default way of stating the problem, preferences are expressed as an **ordering**: each actor rates the possible matches on the other side from most preferred to least preferred. But in this notebook we will allow each actor to say more: to express their preference for each possible match as a **utility**: a number between 0 and 1. For example actor $A$ on one side could say that they would like to be paired with actor β on the other side with utility 0.9 (meaning a very desireable match) and with actor γ on the other side with utility 0.1 (meaning an undesireable match). The matching algorithm we present actually pays attention only to the ordering of preferences, but we will use the utilities to analyze how well each side does, on average.\n",
    "\n",
    "\n",
    "\n",
    "# Gale-Shapley Matching Algorithm\n",
    "\n",
    "The **[Gale-Shapley Stable Matching Algorithm](https://en.wikipedia.org/wiki/Gale%E2%80%93Shapley_algorithm)** (*Note: David Gale was my father's [PhD advisor](https://www.genealogy.math.ndsu.nodak.edu/id.php?id=4381).*) works as follows: one side is chosen to be the **proposers** and the other side the **acceptors**. Until everyone has been matched the algorithm repeats the following steps:\n",
    "- An unmatched proposer, $p$, proposes a match to the highest-ranked acceptor, $a$, that $p$ has not yet proposed to.\n",
    "- If $a$ is unmatched, then $a$ tentatively accepts the proposal to be a match.\n",
    "- If $a$ is matched, but prefers $p$ to their previous match, then $a$ breaks the previous match and tentatively accepts $p$.\n",
    "- If $a$ is matched and prefers their previous match to $p$, then $a$ rejects the proposal.\n",
    "\n",
    "I will define the function `stable_matching(P, A)`, which is passed two preference arrays: $N \\times N$ arrays of utility values such that `P[p][a]` is the utility that proposer `p` has for being matched with  `a`, and `A[a][p]` is the utility that acceptor `a` has for being matched with `p`. The function returns a set of matches, `{(p, a), ...}`. To implement the algorithm sketched above, we keep track of the following variables:\n",
    "- `ids`: If there are $N$ actors on each side, we number them $0$ to $N-1$; `ids` is the collection of these numbers.\n",
    "- `unmatched`: the set of proposers that have not yet been matched to any acceptor.\n",
    "- `matched`: A mapping from acceptors to their matched proposers: `matched[a] = p`.\n",
    "- `proposals`: Keeps track of who each proposer should propose to next. `proposals[p]` is a list of acceptors sorted by increasing utility, which means that `proposals[p].pop()` returns (and removes) the best acceptor for $p$ to propose to next. "
   ]
  },
  {
   "cell_type": "code",
   "execution_count": 1,
   "metadata": {},
   "outputs": [],
   "source": [
    "import matplotlib.pyplot as plt\n",
    "from statistics import mean, stdev\n",
    "from typing import *\n",
    "import random\n",
    "\n",
    "# Types\n",
    "ID = int # ID number for an actor\n",
    "Utility = float # Real number form 0 to 1 indicating degree of preference\n",
    "Match = Tuple[ID, ID] # A pair of actors who are matched\n",
    "PrefArray = List[List[Utility]] # Preference of each actor on a side for each actor on other side\n",
    "\n",
    "def stable_matching(P: PrefArray, A: PrefArray) -> Set[Match]:\n",
    "    \"\"\"Compute a stable match, a set of (p, a) pairs.\n",
    "    P and A are square preference arrays: P[p][a] is how much p likes a;\n",
    "    A[a][p] is how much a likes p. Stable means there is no (p, a)\n",
    "    such that both prefer each other over the partner they are matched with.\"\"\"\n",
    "    ids = range(len(P))           # ID numbers of all actors on either side\n",
    "    unmatched = set(ids)          # Members of P that are not yet matched to anyone\n",
    "    matched = {}                  # {a: p} mapping of who acceptors are matched with\n",
    "    proposals = [sorted(ids, key=lambda a: P[p][a]) \n",
    "                 for p in ids]    # proposals[p] is an ordered list of who p should propose to\n",
    "    while unmatched:\n",
    "        p = unmatched.pop()       # p is an arbitrary unmatched Proposer\n",
    "        a = proposals[p].pop()    # a is p's most preferred remaining acceptor\n",
    "        if a not in matched:      # first proposal to a; a tentatively accepts\n",
    "            matched[a] = p\n",
    "        elif A[a][p] > A[a][matched[a]]: # a breaks previous engagement and accepts\n",
    "            unmatched.add(matched[a])\n",
    "            matched[a] = p\n",
    "        else:\n",
    "            unmatched.add(p)      # proposal declined; p remains unmatched\n",
    "    return {(p, a) for (a, p) in matched.items()}"
   ]
  },
  {
   "cell_type": "markdown",
   "metadata": {},
   "source": [
    "The algorithm has the following properties:\n",
    "- The algorithm will always terminate.\n",
    "- The output of the algorithm will always be a stable matching.\n",
    "- Out of all possible stable matchings, it will produce the one that is optimal for proposers: each proposer gets the best possible match they could get. That's true because the proposers propose in order of preference, so the acceptor that they most prefer who also prefers them will accept their proposal.\n",
    "- The acceptors have no such luck; they might not get their best possible match, because a proposer who is a better match for them might not ever propose to them.\n",
    "\n",
    "What I want to get a handle on is: *how bad is this for the acceptors?* What's the gap in expected utility between the proposers and the acceptors?\n",
    "\n",
    "# Preference Arrays\n",
    "\n",
    "Let's define some preference arrays. `I` is the identity matrix: it says that every proposer number $i$ likes acceptor $i$ best, and dislikes the others equally. "
   ]
  },
  {
   "cell_type": "code",
   "execution_count": 2,
   "metadata": {},
   "outputs": [],
   "source": [
    "I = [[1, 0, 0, 0, 0],\n",
    "     [0, 1, 0, 0, 0],\n",
    "     [0, 0, 1, 0, 0],\n",
    "     [0, 0, 0, 1, 0],\n",
    "     [0, 0, 0, 0, 1]]"
   ]
  },
  {
   "cell_type": "markdown",
   "metadata": {},
   "source": [
    "If both sides have this same preference array, it should result in a stable matching of (*i*, *i*) pairs:"
   ]
  },
  {
   "cell_type": "code",
   "execution_count": 3,
   "metadata": {},
   "outputs": [
    {
     "data": {
      "text/plain": [
       "{(0, 0), (1, 1), (2, 2), (3, 3), (4, 4)}"
      ]
     },
     "execution_count": 3,
     "metadata": {},
     "output_type": "execute_result"
    }
   ],
   "source": [
    "stable_matching(I, I)"
   ]
  },
  {
   "cell_type": "markdown",
   "metadata": {},
   "source": [
    "We can measure the average utility for both sides:"
   ]
  },
  {
   "cell_type": "code",
   "execution_count": 4,
   "metadata": {},
   "outputs": [],
   "source": [
    "def mean_utilities(P, A):\n",
    "    \"\"\"The mean utility over all members of P, and the mean utility over all members of A,\n",
    "    for the matching given by stable_matching(P, A).\"\"\"\n",
    "    matching = stable_matching(P, A)\n",
    "    return (mean(P[p][a] for (p, a) in matching),\n",
    "            mean(A[a][p] for (p, a) in matching))"
   ]
  },
  {
   "cell_type": "code",
   "execution_count": 5,
   "metadata": {},
   "outputs": [
    {
     "data": {
      "text/plain": [
       "(1, 1)"
      ]
     },
     "execution_count": 5,
     "metadata": {},
     "output_type": "execute_result"
    }
   ],
   "source": [
    "mean_utilities(I, I)"
   ]
  },
  {
   "cell_type": "markdown",
   "metadata": {},
   "source": [
    "Perfect! Both sides achieve the maximum utility, 1.\n",
    "\n",
    "Next, preference array `X` is almost the same as the identity matrix, except that proposer 3 prefers 4, not 3, and proposer 4 prefers 3, not 4."
   ]
  },
  {
   "cell_type": "code",
   "execution_count": 6,
   "metadata": {},
   "outputs": [],
   "source": [
    "X = [[1, 0, 0, 0, 0],\n",
    "     [0, 1, 0, 0, 0],\n",
    "     [0, 0, 1, 0, 0],\n",
    "     [0, 0, 0, 0, 1],\n",
    "     [0, 0, 0, 1, 0]]"
   ]
  },
  {
   "cell_type": "markdown",
   "metadata": {},
   "source": [
    "We see that the way that 3 and 4 get matched depends on which side is the proposer:"
   ]
  },
  {
   "cell_type": "code",
   "execution_count": 7,
   "metadata": {},
   "outputs": [
    {
     "data": {
      "text/plain": [
       "{(0, 0), (1, 1), (2, 2), (3, 3), (4, 4)}"
      ]
     },
     "execution_count": 7,
     "metadata": {},
     "output_type": "execute_result"
    }
   ],
   "source": [
    "stable_matching(I, X)"
   ]
  },
  {
   "cell_type": "code",
   "execution_count": 8,
   "metadata": {},
   "outputs": [
    {
     "data": {
      "text/plain": [
       "{(0, 0), (1, 1), (2, 2), (3, 4), (4, 3)}"
      ]
     },
     "execution_count": 8,
     "metadata": {},
     "output_type": "execute_result"
    }
   ],
   "source": [
    "stable_matching(X, I)"
   ]
  },
  {
   "cell_type": "markdown",
   "metadata": {},
   "source": [
    "The proposers always do better (or no worse than) the acceptors in mean utility:"
   ]
  },
  {
   "cell_type": "code",
   "execution_count": 9,
   "metadata": {},
   "outputs": [
    {
     "data": {
      "text/plain": [
       "(1, 0.6)"
      ]
     },
     "execution_count": 9,
     "metadata": {},
     "output_type": "execute_result"
    }
   ],
   "source": [
    "mean_utilities(I, X)"
   ]
  },
  {
   "cell_type": "code",
   "execution_count": 10,
   "metadata": {},
   "outputs": [
    {
     "data": {
      "text/plain": [
       "(1, 0.6)"
      ]
     },
     "execution_count": 10,
     "metadata": {},
     "output_type": "execute_result"
    }
   ],
   "source": [
    "mean_utilities(X, I)"
   ]
  },
  {
   "cell_type": "markdown",
   "metadata": {},
   "source": [
    "Similar results hold when we use preference arrays that have utilities that are spread out between 0 and 1; it is still better to be the proposing side:"
   ]
  },
  {
   "cell_type": "code",
   "execution_count": 11,
   "metadata": {},
   "outputs": [],
   "source": [
    "A = [[.9, .4, .3, .2, .1],\n",
    "     [.1, .9, .4, .3, .2],\n",
    "     [.2, .1, .9, .4, .3],\n",
    "     [.3, .2, .1, .9, .4],\n",
    "     [.4, .3, .2, .1, .9]]\n",
    "\n",
    "B = [[.9, .4, .3, .2, .1],\n",
    "     [.1, .9, .4, .3, .2],\n",
    "     [.2, .1, .9, .4, .3],\n",
    "     [.1, .2, .3, .4, .9],\n",
    "     [.9, .4, .3, .2, .1]]"
   ]
  },
  {
   "cell_type": "code",
   "execution_count": 12,
   "metadata": {},
   "outputs": [
    {
     "data": {
      "text/plain": [
       "{(0, 0), (1, 1), (2, 2), (3, 3), (4, 4)}"
      ]
     },
     "execution_count": 12,
     "metadata": {},
     "output_type": "execute_result"
    }
   ],
   "source": [
    "stable_matching(A, B)"
   ]
  },
  {
   "cell_type": "code",
   "execution_count": 13,
   "metadata": {},
   "outputs": [
    {
     "data": {
      "text/plain": [
       "(0.9, 0.64)"
      ]
     },
     "execution_count": 13,
     "metadata": {},
     "output_type": "execute_result"
    }
   ],
   "source": [
    "mean_utilities(A, B)"
   ]
  },
  {
   "cell_type": "code",
   "execution_count": 14,
   "metadata": {},
   "outputs": [
    {
     "data": {
      "text/plain": [
       "{(0, 0), (1, 1), (2, 2), (3, 4), (4, 3)}"
      ]
     },
     "execution_count": 14,
     "metadata": {},
     "output_type": "execute_result"
    }
   ],
   "source": [
    "stable_matching(B, A)"
   ]
  },
  {
   "cell_type": "code",
   "execution_count": 15,
   "metadata": {},
   "outputs": [
    {
     "data": {
      "text/plain": [
       "(0.76, 0.64)"
      ]
     },
     "execution_count": 15,
     "metadata": {},
     "output_type": "execute_result"
    }
   ],
   "source": [
    "mean_utilities(B, A)"
   ]
  },
  {
   "cell_type": "markdown",
   "metadata": {},
   "source": [
    "# Preferences with Common and Private Values\n",
    "\n",
    "If the Gale-Shapley algorithm is used in high-stakes applications like matching medical residents to hospitals, does it make a big difference which side is the proposers? In the toy examples above, it does make a difference; in some cases the acceptors got only 60% of their possible utility, while the proposers got up to 100%. \n",
    "\n",
    "I will address the question by examining some randomized preference arrays and getting a feeling for how they perform. But I don't want them to be completely random; I want them to reflect, in a very abstract way, some properties of the real world:\n",
    "- Some choices have intrinsic properties that make them widely popular (or unpopular). For example, Massachusetts General Hospital is considered an excellent choice by many aspiring residents. The amount of utility that is commonly agreed upon is called the **common value** of a choice.\n",
    "- Some choices have idiosyncratic properties that appeal only to specific actors. For example, you might really want to be a resident at your hometown hospital, even if it is not highly-regarded by others. This is the **private value** of a choice.\n",
    "- In real world situations there is usually a mix of common and private value.\n",
    "\n",
    "The function call `preferences(N, 0.75)`, for example, creates an NxN array of preferences, where each preference is 75% common value and 25% individual value. I implement individual value as being proportional to the ID number (`a` in the code); that is equivalent to assuming  that the hospitals (say) are sorted in increasing order of quality by ID number."
   ]
  },
  {
   "cell_type": "code",
   "execution_count": 16,
   "metadata": {},
   "outputs": [],
   "source": [
    "def preferences(N=25, c=0.75):\n",
    "    \"\"\"Create an NxN preference array, weighted: c × common + (1 - c) × random.\"\"\"\n",
    "    return [[round(c * (a + 0.5) / N + (1 - c) * random.uniform(0, 1), 3)\n",
    "            for a in range(N)] \n",
    "            for p in range(N)]\n",
    "\n",
    "random.seed(99) # For reproducability"
   ]
  },
  {
   "cell_type": "markdown",
   "metadata": {},
   "source": [
    "Below is a 7x7 preference array that is half common, half private. You can see as you go across a row that the utilities tend to increase, but not always monotonically:"
   ]
  },
  {
   "cell_type": "code",
   "execution_count": 17,
   "metadata": {},
   "outputs": [
    {
     "data": {
      "text/plain": [
       "[[0.238, 0.207, 0.268, 0.374, 0.701, 0.518, 0.656],\n",
       " [0.378, 0.376, 0.648, 0.495, 0.532, 0.699, 0.573],\n",
       " [0.487, 0.294, 0.373, 0.591, 0.398, 0.723, 0.889],\n",
       " [0.205, 0.581, 0.443, 0.637, 0.556, 0.594, 0.599],\n",
       " [0.04, 0.209, 0.673, 0.517, 0.552, 0.843, 0.767],\n",
       " [0.524, 0.286, 0.286, 0.71, 0.402, 0.789, 0.762],\n",
       " [0.527, 0.579, 0.509, 0.269, 0.333, 0.63, 0.874]]"
      ]
     },
     "execution_count": 17,
     "metadata": {},
     "output_type": "execute_result"
    }
   ],
   "source": [
    "preferences(7, 0.5)"
   ]
  },
  {
   "cell_type": "markdown",
   "metadata": {},
   "source": [
    "Here's a preference array with no common value; the utilities are completely random, uncorrelated to their position:"
   ]
  },
  {
   "cell_type": "code",
   "execution_count": 18,
   "metadata": {},
   "outputs": [
    {
     "data": {
      "text/plain": [
       "[[0.081, 0.425, 0.086, 0.31, 0.006, 0.33, 0.523],\n",
       " [0.201, 0.787, 0.055, 0.211, 0.258, 0.404, 0.764],\n",
       " [0.354, 0.695, 0.922, 0.131, 0.864, 0.6, 0.747],\n",
       " [0.608, 0.408, 0.096, 0.144, 0.174, 0.178, 0.146],\n",
       " [0.208, 0.561, 0.771, 0.798, 0.846, 0.117, 0.822],\n",
       " [0.186, 0.072, 0.288, 0.586, 0.048, 0.216, 0.399],\n",
       " [0.822, 0.399, 0.414, 0.371, 0.093, 0.88, 0.923]]"
      ]
     },
     "execution_count": 18,
     "metadata": {},
     "output_type": "execute_result"
    }
   ],
   "source": [
    "preferences(7, 0.0)"
   ]
  },
  {
   "cell_type": "markdown",
   "metadata": {},
   "source": [
    "And here's a preference array with 100% common value: every row is identical, and the utilities monotonically increase across the row:"
   ]
  },
  {
   "cell_type": "code",
   "execution_count": 19,
   "metadata": {},
   "outputs": [
    {
     "data": {
      "text/plain": [
       "[[0.1, 0.3, 0.5, 0.7, 0.9],\n",
       " [0.1, 0.3, 0.5, 0.7, 0.9],\n",
       " [0.1, 0.3, 0.5, 0.7, 0.9],\n",
       " [0.1, 0.3, 0.5, 0.7, 0.9],\n",
       " [0.1, 0.3, 0.5, 0.7, 0.9]]"
      ]
     },
     "execution_count": 19,
     "metadata": {},
     "output_type": "execute_result"
    }
   ],
   "source": [
    "preferences(5, 1.0)"
   ]
  },
  {
   "cell_type": "markdown",
   "metadata": {},
   "source": [
    "The `preferences` function has been designed so that the average utility value is close to 0.5, for all values of `c`:"
   ]
  },
  {
   "cell_type": "code",
   "execution_count": 20,
   "metadata": {},
   "outputs": [
    {
     "data": {
      "text/plain": [
       "0.4996304"
      ]
     },
     "execution_count": 20,
     "metadata": {},
     "output_type": "execute_result"
    }
   ],
   "source": [
    "mean(map(mean, preferences(100, c=0.8)))"
   ]
  },
  {
   "cell_type": "code",
   "execution_count": 21,
   "metadata": {},
   "outputs": [
    {
     "data": {
      "text/plain": [
       "0.5004173"
      ]
     },
     "execution_count": 21,
     "metadata": {},
     "output_type": "execute_result"
    }
   ],
   "source": [
    "mean(map(mean, preferences(100, c=0.2)))"
   ]
  },
  {
   "cell_type": "markdown",
   "metadata": {},
   "source": [
    "Now for one more helpful function: `examples` returns a list of the form `[(P, A), ...]` where `P` and `A` are preference arrays."
   ]
  },
  {
   "cell_type": "code",
   "execution_count": 22,
   "metadata": {},
   "outputs": [],
   "source": [
    "def examples(N=25, c=0.5, repeat=10000):\n",
    "    \"\"\"A list of pairs of preference arrays, (P, A), of length `repeat`.\"\"\"\n",
    "    return [(preferences(N, c), preferences(N, c)) for _ in range(repeat)]"
   ]
  },
  {
   "cell_type": "code",
   "execution_count": 23,
   "metadata": {},
   "outputs": [
    {
     "data": {
      "text/plain": [
       "[([[0.181, 0.736, 0.7], [0.207, 0.734, 0.599], [0.572, 0.745, 0.715]],\n",
       "  [[0.537, 0.72, 0.784], [0.281, 0.256, 0.582], [0.452, 0.657, 0.554]]),\n",
       " ([[0.464, 0.575, 0.662], [0.23, 0.416, 0.821], [0.342, 0.381, 0.658]],\n",
       "  [[0.471, 0.517, 0.603], [0.201, 0.365, 0.482], [0.102, 0.347, 0.479]])]"
      ]
     },
     "execution_count": 23,
     "metadata": {},
     "output_type": "execute_result"
    }
   ],
   "source": [
    "examples(N=3, repeat=2)"
   ]
  },
  {
   "cell_type": "markdown",
   "metadata": {},
   "source": [
    "# Histograms of Acceptor/Proposer Utility\n",
    "\n",
    "Now we're ready to answer the original question: how much worse is it to be an acceptor rather than a proposer? The function `show` displays two overlapping histograms of mean utilities: one for acceptors and one for proposers. "
   ]
  },
  {
   "cell_type": "code",
   "execution_count": 24,
   "metadata": {},
   "outputs": [],
   "source": [
    "def show(N=25, c=0.5, repeat=10000, bins=50):\n",
    "    \"\"\"Show two histograms of mean utility values over examples, for proposers and acceptors.\"\"\"\n",
    "    pr, ac = transpose(mean_utilities(P, A) for (P, A) in examples(N, c, repeat))\n",
    "    plt.hist(pr, bins=bins, alpha=0.5)\n",
    "    plt.hist(ac, bins=bins, alpha=0.5);\n",
    "    print(f'''{repeat:,d} examples with N = {N} actors, common value ratio c = {c}\n",
    "    Acceptors: {mean(ac):.3f} ± {stdev(ac):.3f}\n",
    "    Proposers: {mean(pr):.3f} ± {stdev(pr):.3f}''')\n",
    "    \n",
    "def transpose(matrix): return list(zip(*matrix))"
   ]
  },
  {
   "cell_type": "markdown",
   "metadata": {},
   "source": [
    "We'll start with preferences that are completely private; no common value:"
   ]
  },
  {
   "cell_type": "code",
   "execution_count": 25,
   "metadata": {},
   "outputs": [
    {
     "name": "stdout",
     "output_type": "stream",
     "text": [
      "10,000 examples with N = 25 actors, common value ratio c = 0.0\n",
      "    Acceptors: 0.729 ± 0.063\n",
      "    Proposers: 0.871 ± 0.035\n"
     ]
    },
    {
     "data": {
      "image/png": "[encoded data removed]",
      "text/plain": [
       "<Figure size 432x288 with 1 Axes>"
      ]
     },
     "metadata": {
      "needs_background": "light"
     },
     "output_type": "display_data"
    }
   ],
   "source": [
    "show(c=0.0)"
   ]
  },
  {
   "cell_type": "markdown",
   "metadata": {},
   "source": [
    "The acceptors (the orange histogram) have a mean utility of 0.730 while the proposers (blue histogram) do much better with a mean of 0.870. Both sides do much better than the 0.5 average utility that they would average if we just used a random (non-stable) matching. \n",
    "\n",
    "It is clear that proposers do much better than acceptors. That suggests that the `stable_matching` algorithm is very unfair. But before drawing that conclusion, let's consider preferences with a 50/50 mix of private/common value. We'll do that for two different population sizes, 25 and 50:"
   ]
  },
  {
   "cell_type": "code",
   "execution_count": 26,
   "metadata": {},
   "outputs": [
    {
     "name": "stdout",
     "output_type": "stream",
     "text": [
      "10,000 examples with N = 25 actors, common value ratio c = 0.5\n",
      "    Acceptors: 0.621 ± 0.021\n",
      "    Proposers: 0.638 ± 0.019\n"
     ]
    },
    {
     "data": {
      "image/png": "[encoded data removed]",
      "text/plain": [
       "<Figure size 432x288 with 1 Axes>"
      ]
     },
     "metadata": {
      "needs_background": "light"
     },
     "output_type": "display_data"
    }
   ],
   "source": [
    "show(c=0.5, N=25)"
   ]
  },
  {
   "cell_type": "code",
   "execution_count": 27,
   "metadata": {},
   "outputs": [
    {
     "name": "stdout",
     "output_type": "stream",
     "text": [
      "10,000 examples with N = 50 actors, common value ratio c = 0.5\n",
      "    Acceptors: 0.647 ± 0.013\n",
      "    Proposers: 0.661 ± 0.012\n"
     ]
    },
    {
     "data": {
      "image/png": "[encoded data removed]",
      "text/plain": [
       "<Figure size 432x288 with 1 Axes>"
      ]
     },
     "metadata": {
      "needs_background": "light"
     },
     "output_type": "display_data"
    }
   ],
   "source": [
    "show(c=0.5, N=50)"
   ]
  },
  {
   "cell_type": "markdown",
   "metadata": {},
   "source": [
    "We see that the gap between proposer and acceptor has been greatly reduced (but not eliminated). With more actors, the variance is smaller (the histogram is not as wide). \n",
    "\n",
    "What happens with 90% common value? How aboout 99%?"
   ]
  },
  {
   "cell_type": "code",
   "execution_count": 28,
   "metadata": {},
   "outputs": [
    {
     "name": "stdout",
     "output_type": "stream",
     "text": [
      "10,000 examples with N = 25 actors, common value ratio c = 0.9\n",
      "    Acceptors: 0.509 ± 0.005\n",
      "    Proposers: 0.510 ± 0.005\n"
     ]
    },
    {
     "data": {
      "image/png": "[encoded data removed]",
      "text/plain": [
       "<Figure size 432x288 with 1 Axes>"
      ]
     },
     "metadata": {
      "needs_background": "light"
     },
     "output_type": "display_data"
    }
   ],
   "source": [
    "show(c=0.9)"
   ]
  },
  {
   "cell_type": "code",
   "execution_count": 29,
   "metadata": {},
   "outputs": [
    {
     "name": "stdout",
     "output_type": "stream",
     "text": [
      "10,000 examples with N = 25 actors, common value ratio c = 0.99\n",
      "    Acceptors: 0.500 ± 0.001\n",
      "    Proposers: 0.500 ± 0.001\n"
     ]
    },
    {
     "data": {
      "image/png": "[encoded data removed]",
      "text/plain": [
       "<Figure size 432x288 with 1 Axes>"
      ]
     },
     "metadata": {
      "needs_background": "light"
     },
     "output_type": "display_data"
    }
   ],
   "source": [
    "show(c=0.99)"
   ]
  },
  {
   "cell_type": "markdown",
   "metadata": {},
   "source": [
    "We see that there is very little difference between the two sides. So the conclusion is: when there is a lot of common value, the Gale-Shapley Matching Algorithm is almost fair: the proposers have an advantage, but it is minimal. So it is probably okay to use the algorithm for matching medical residents, because there is a lot of common value in the perception of the quality of hospitals, and likewise for the quality of students.\n",
    "\n",
    "But when there is mostly private value, the algorithm is unfair, favoring the proposers over the acceptors."
   ]
  }
 ],
 "metadata": {
  "kernelspec": {
   "display_name": "Python 3 (ipykernel)",
   "language": "python",
   "name": "python3"
  },
  "language_info": {
   "codemirror_mode": {
    "name": "ipython",
    "version": 3
   },
   "file_extension": ".py",
   "mimetype": "text/x-python",
   "name": "python",
   "nbconvert_exporter": "python",
   "pygments_lexer": "ipython3",
   "version": "3.9.12"
  }
 },
 "nbformat": 4,
 "nbformat_minor": 4
}
