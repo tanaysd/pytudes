{
 "cells": [
  {
   "cell_type": "markdown",
   "metadata": {},
   "source": [
    "<div style=\"text-align: right\"><i>Peter Norvig<br>2017 | 2020</i></div>\n",
    "\n",
    "# Conway's Game of Life \n",
    "\n",
    "![](https://upload.wikimedia.org/wikipedia/commons/thumb/4/45/Glider.svg/140px-Glider.svg.png)\n",
    "\n",
    "The cellular automata game *Life*, invented by the mathematician [John H. Conway](https://en.wikipedia.org/wiki/John_Horton_Conway), makes a fun programming exercise.  Let's review the [rules](http://en.wikipedia.org/wiki/Conway%27s_Game_of_Life):\n",
    "\n",
    ">The **world** of *Life* is an infinite two-dimensional orthogonal grid of **cells**, each of which is in one of two possible states, **live** or **empty**. Each cell has eight **neighbors**, the cells that are horizontally, vertically, or diagonally adjacent. We go from one generation to the next with these rules:\n",
    ">\n",
    ">+ Any live cell with two or three live neighbors remains live in the next generation.\n",
    ">+ Any empty cell with exactly three live neighbors becomes live in the next generation.\n",
    ">+ All other cells are empty in the next generation.\n",
    "\n",
    "For example, in the diagram below, \"`@`\" cells are live. In the transition from Generation 0 to 1, the cell marked \"`,`\" becomes empty (dies off) because it has zero live neighbors.  In the next transition, a fourth `@` becomes live, because it has 3 live neighbors. All other cells stay the same. \n",
    "\n",
    "     . . . . .        . . . . .        . . . . .\n",
    "     . . . @ .        . . . , .        . . . . .\n",
    "     . @ . . .        . @ . . .        . @ @ . .\n",
    "     . @ @ . .        . @ @ . .        . @ @ . .\n",
    "     . . . . .        . . . . .        . . . . .\n",
    "       Gen 0            Gen 1            Gen 2\n",
    "     \n",
    "\n",
    "\n",
    "The world continues to evolve by these rules for as long as you care to observe. *Life* is a zero-player infinite game.\n",
    "\n",
    "# Developing a Life Program\n",
    "\n",
    "\n",
    "To create a program to play *Life*, go through the inventory of concepts and decide how to implement each one:\n",
    "\n",
    "+ **World** and **Cell**: A state of the world must represent which cells are empty and which are live. That looks like a job for a two-dimensional array with values 1 for live and 0 for empty. The tricky part is that the number of cells is infinite, and we can't store an infinite array in a finite computer.  I can think of three ways around this issue:\n",
    "  - Use a **fixed-size two-dimensional array** but change the rules: cells at the edge have fewer neighbors, or they wrap around.\n",
    "  - Use a **sparse matrix** that can change size, expanding in any direction to contain all the live cells.\n",
    "  - Use a **set of live cells**, where a **cell** is represented as an (x, y)-coordinate pair. I think this is the easiest choice.\n",
    "<br>Example: `world = {(3, 1), (1, 2), (1, 3), (2, 3)}; cell = (1, 2)` \n",
    "+ **Live** and **Empty**: A cell is live if it is a member of a world, i.e. if `cell in world` is true. \n",
    "+ **Neighbors**:  The cell `(x, y)` has eight neighbors, formed by adding or subtracting 1 from `x` or `y` or both.\n",
    "<br>Example: `neighbors((1, 2))` → `((0, 1), (1, 1), (2, 1), (0, 2), (2, 2), (0, 3), (1, 3), (2, 3))`\n",
    "+ **Next Generation**: The  function `next_generation(world)` returns a new world with the new set of live cells according to the rules. <br>Example: `next_generation({(3, 1), (1, 2), (1, 3), (2, 3)})` → `{(1, 2), (1, 3), (2, 3)}`\n",
    "+ **Sequence of Generations**: The generator function `life(world, n)` yields `n` generations starting from the given world. \n",
    "+ **Display**: We will need some way to display the generations. Let's defer that for now.\n",
    "+ **Live Neighbor Counts**: To determine the next generation, we need to know how many live neighbors each cell has. A good way to represent this is a mapping of `{cell: count}`.  An easy way to produce this mapping is with a `Counter`, passing it every neighbor of every live cell. This may feel like we're doing the counting \"backwards.\" Instead of asking \"for each cell, how many live neighbors does it have?\" we are saying \"for each live cell, increment the count of each of its neighbors.\" The two amount to the same thing because *neighbor* is symmetric&mdash;if P is a neighbor of Q, then Q is a neighbor of P. Below we see the neighbor counts for each of the three generations of the example above; in each generation the top diagram gives the neighbor counts for the empty cells, and the bottom diagram gives the counts for the live cells. This is just to make the diagram easier to read; in the code the counts are all in one `Counter`. \n",
    "\n",
    "\n",
    "       . . 1 1 1        . . . . .        . . . . .\n",
    "       1 1 2 @ 1        1 1 1 , .        1 2 2 1 .\n",
    "       2 @ 4 2 1        2 @ 3 1 .        2 @ @ 2 .\n",
    "       2 @ @ 1 .        2 @ @ 1 .        2 @ @ 2 .\n",
    "       1 2 2 1 .        1 2 2 1 .        1 2 2 1 .\n",
    "         Gen 0            Gen 1            Gen 2\n",
    "       . . . . .        . . . . .        . . . . .\n",
    "       . . . 0 .        . . . , .        . . . . .\n",
    "       . 2 . . .        . 2 . . .        . 3 3 . .\n",
    "       . 2 2 . .        . 2 2 . .        . 3 3 . .\n",
    "       . . . . .        . . . . .        . . . . .\n",
    "     \n",
    "\n",
    "Now we're ready to start implementing. First some imports and type declarations:"
   ]
  },
  {
   "cell_type": "code",
   "execution_count": 4,
   "metadata": {},
   "outputs": [],
   "source": [
    "from collections     import Counter\n",
    "from typing          import Set, Tuple, Dict, Iterator, List\n",
    "from itertools       import islice\n",
    "from IPython.display import clear_output, display_html\n",
    "from time            import sleep\n",
    "import sys\n",
    "\n",
    "Cell  = Tuple[int, int]\n",
    "World = Set[Cell] "
   ]
  },
  {
   "cell_type": "markdown",
   "metadata": {},
   "source": [
    "Now the complete implementation, except for display:"
   ]
  },
  {
   "cell_type": "code",
   "execution_count": 9,
   "metadata": {},
   "outputs": [],
   "source": [
    "def life(world, n=sys.maxsize) -> Iterator[World]:\n",
    "    \"\"\"Yield `n` generations, starting from the given world.\"\"\"\n",
    "    for g in range(n):\n",
    "        yield world\n",
    "        world = next_generation(world)\n",
    "\n",
    "def next_generation(world) -> World:\n",
    "    \"\"\"The set of live cells in the next generation.\"\"\"\n",
    "    return {cell for cell, count in neighbor_counts(world).items()\n",
    "            if count == 3 or (count == 2 and cell in world)}\n",
    "\n",
    "def neighbor_counts(world) -> Dict[Cell, int]:\n",
    "    \"\"\"A Counter of the number of live neighbors for each cell.\"\"\"\n",
    "    return Counter(xy for cell in world \n",
    "                      for xy in neighbors(cell))\n",
    "\n",
    "def neighbors(cell) -> List[Cell]:\n",
    "    \"\"\"All 8 adjacent neighbors of cell.\"\"\"\n",
    "    (x, y) = cell\n",
    "    return [(x + dx, y + dy) \n",
    "            for dx in (-1, 0, 1) \n",
    "            for dy in (-1, 0, 1) \n",
    "            if not (dx == 0 == dy)]"
   ]
  },
  {
   "cell_type": "markdown",
   "metadata": {},
   "source": [
    "We can see how this works:"
   ]
  },
  {
   "cell_type": "code",
   "execution_count": 3,
   "metadata": {},
   "outputs": [
    {
     "data": {
      "text/plain": [
       "{(1, 2), (1, 3), (2, 3)}"
      ]
     },
     "execution_count": 3,
     "metadata": {},
     "output_type": "execute_result"
    }
   ],
   "source": [
    "world = {(3, 1), (1, 2), (1, 3), (2, 3)}\n",
    "next_generation(world)"
   ]
  },
  {
   "cell_type": "code",
   "execution_count": 4,
   "metadata": {},
   "outputs": [
    {
     "data": {
      "text/plain": [
       "[{(1, 2), (1, 3), (2, 3), (3, 1)},\n",
       " {(1, 2), (1, 3), (2, 3)},\n",
       " {(1, 2), (1, 3), (2, 2), (2, 3)},\n",
       " {(1, 2), (1, 3), (2, 2), (2, 3)}]"
      ]
     },
     "execution_count": 4,
     "metadata": {},
     "output_type": "execute_result"
    }
   ],
   "source": [
    "list(life(world, 4))"
   ]
  },
  {
   "cell_type": "code",
   "execution_count": 5,
   "metadata": {},
   "outputs": [
    {
     "data": {
      "text/plain": [
       "Counter({(0, 1): 1,\n",
       "         (0, 2): 2,\n",
       "         (0, 3): 2,\n",
       "         (1, 1): 1,\n",
       "         (1, 3): 2,\n",
       "         (2, 1): 2,\n",
       "         (2, 2): 4,\n",
       "         (2, 3): 2,\n",
       "         (2, 0): 1,\n",
       "         (3, 0): 1,\n",
       "         (3, 2): 2,\n",
       "         (4, 0): 1,\n",
       "         (4, 1): 1,\n",
       "         (4, 2): 1,\n",
       "         (1, 2): 2,\n",
       "         (1, 4): 2,\n",
       "         (2, 4): 2,\n",
       "         (3, 3): 1,\n",
       "         (3, 4): 1,\n",
       "         (0, 4): 1})"
      ]
     },
     "execution_count": 5,
     "metadata": {},
     "output_type": "execute_result"
    }
   ],
   "source": [
    "neighbor_counts(world)"
   ]
  },
  {
   "cell_type": "code",
   "execution_count": 11,
   "metadata": {},
   "outputs": [
    {
     "data": {
      "text/plain": [
       "[(0, 1), (0, 2), (0, 3), (1, 1), (1, 3), (2, 1), (2, 2), (2, 3)]"
      ]
     },
     "execution_count": 11,
     "metadata": {},
     "output_type": "execute_result"
    }
   ],
   "source": [
    "neighbors((1, 2))"
   ]
  },
  {
   "cell_type": "markdown",
   "metadata": {},
   "source": [
    "# Display\n",
    "\n",
    "To display a world, we'll specify a rectangular window on the infinite plane with ranges of `Xs` and `Ys` coordinates. The function `picture` returns a string depicting the world within that window:"
   ]
  },
  {
   "cell_type": "code",
   "execution_count": 7,
   "metadata": {},
   "outputs": [],
   "source": [
    "LIVE  = '@'\n",
    "EMPTY = '.'\n",
    "PAD   = ' '\n",
    "        \n",
    "def picture(world, Xs: range, Ys: range) -> str:\n",
    "    \"\"\"Return a picture of the world: a grid of characters representing the cells in this window.\"\"\"\n",
    "    def row(y): return PAD.join(LIVE if (x, y) in world else EMPTY for x in Xs)\n",
    "    return '\\n'.join(row(y) for y in Ys)"
   ]
  },
  {
   "cell_type": "code",
   "execution_count": 8,
   "metadata": {},
   "outputs": [
    {
     "data": {
      "text/plain": [
       "({(1, 2), (1, 3), (2, 3), (3, 1)}, {(1, 2), (1, 3), (2, 3)})"
      ]
     },
     "execution_count": 8,
     "metadata": {},
     "output_type": "execute_result"
    }
   ],
   "source": [
    "g = life(world)\n",
    "next(g), next(g)"
   ]
  },
  {
   "cell_type": "code",
   "execution_count": 9,
   "metadata": {},
   "outputs": [
    {
     "name": "stdout",
     "output_type": "stream",
     "text": [
      ". . . . .\n",
      ". . . @ .\n",
      ". @ . . .\n",
      ". @ @ . .\n",
      ". . . . .\n"
     ]
    }
   ],
   "source": [
    "print(picture(world, range(5), range(5)))"
   ]
  },
  {
   "cell_type": "markdown",
   "metadata": {},
   "source": [
    "# Animated Display\n",
    "\n",
    "The function `animate_life` displays `n` generations: display `world`, pause for `pause` seconds, then clear the screen and display the next generation."
   ]
  },
  {
   "cell_type": "code",
   "execution_count": 10,
   "metadata": {},
   "outputs": [],
   "source": [
    "def animate_life(world, n=10, Xs=range(10), Ys=range(10), pause=1/5):\n",
    "    \"\"\"Display the evolving world for `n` generations.\"\"\"\n",
    "    for g, world in enumerate(life(world, n)):\n",
    "        clear_output(wait=True)\n",
    "        display_html(pre(f'Generation: {g:2}, Population: {len(world):2}\\n' +\n",
    "                         picture(world, Xs, Ys)), raw=True)\n",
    "        sleep(pause)\n",
    "        \n",
    "def pre(text) -> str: return f'<{}pre>{text}<{}/pre>'"
   ]
  },
  {
   "cell_type": "code",
   "execution_count": 11,
   "metadata": {},
   "outputs": [
    {
     "data": {
      "text/html": [
       "<pre>Generation:  3, Population:  4\n",
       ". . . . .\n",
       ". . . . .\n",
       ". @ @ . .\n",
       ". @ @ . .\n",
       ". . . . .</pre>"
      ]
     },
     "metadata": {},
     "output_type": "display_data"
    }
   ],
   "source": [
    "animate_life(world, 4, range(5), range(5), 1)"
   ]
  },
  {
   "cell_type": "markdown",
   "metadata": {},
   "source": [
    "# Interesting Worlds\n",
    "\n",
    "Now let's take a look at some configurations of cells that *Life* enthusiasts have discovered. It would be tedious to write out a set of `(x, y)` coordinates, so we will define the function `shape` that takes a picture as input and returns a world; `shape` and `picture` are more-or-less inverses. "
   ]
  },
  {
   "cell_type": "code",
   "execution_count": 12,
   "metadata": {},
   "outputs": [],
   "source": [
    "def shape(picture, dx=3, dy=3) -> World:\n",
    "    \"\"\"Convert a graphical picture (e.g. '@ @ .\\n. @ @') into a world (set of cells).\"\"\"\n",
    "    cells = {(x, y) \n",
    "             for (y, row) in enumerate(picture.splitlines())\n",
    "             for (x, c) in enumerate(row.replace(PAD, ''))\n",
    "             if c == LIVE}\n",
    "    return slide(cells, dx, dy)\n",
    "\n",
    "def slide(cells, dx, dy):\n",
    "    \"\"\"Translate/slide a set of cells by a (dx, dy) offset.\"\"\"\n",
    "    return {(x + dx, y + dy) for (x, y) in cells}\n",
    "\n",
    "blinker     = shape(\"@@@\")\n",
    "block       = shape(\"@@\\n@@\")\n",
    "beacon      = block | slide(block, 2, 2)\n",
    "toad        = shape(\".@@@\\n@@@.\")\n",
    "glider      = shape(\".@.\\n..@\\n@@@\")\n",
    "rpentomino  = shape(\".@@\\n@@.\\n.@.\", 36, 20)\n",
    "line        = shape(\".@@@@@@@@.@@@@@...@@@......@@@@@@@.@@@@@\", 10, 10)\n",
    "growth      = shape(\"@@@.@\\n@\\n...@@\\n.@@.@\\n@.@.@\", 15, 20)\n",
    "zoo         = (slide(blinker, 5, 25) | slide(glider, 8, 13) | slide(blinker, 20, 25) |\n",
    "               slide(beacon, 24, 25) | slide(toad, 30, 25)  | slide(block, 13, 25) | slide(block, 17, 33))"
   ]
  },
  {
   "cell_type": "markdown",
   "metadata": {},
   "source": [
    "Here is how `shape` and `slide` work:"
   ]
  },
  {
   "cell_type": "code",
   "execution_count": 13,
   "metadata": {},
   "outputs": [
    {
     "data": {
      "text/plain": [
       "{(3, 3), (4, 3), (4, 4), (5, 4)}"
      ]
     },
     "execution_count": 13,
     "metadata": {},
     "output_type": "execute_result"
    }
   ],
   "source": [
    "shape(\"\"\"@ @ .\n",
    "         . @ @\"\"\")"
   ]
  },
  {
   "cell_type": "code",
   "execution_count": 14,
   "metadata": {},
   "outputs": [
    {
     "name": "stdout",
     "output_type": "stream",
     "text": [
      ". . . . . . .\n",
      ". . . . . . .\n",
      ". . . . . . .\n",
      ". . . @ @ . .\n",
      ". . . . @ @ .\n",
      ". . . . . . .\n",
      ". . . . . . .\n"
     ]
    }
   ],
   "source": [
    "print(picture(_, range(7), range(7)))"
   ]
  },
  {
   "cell_type": "code",
   "execution_count": 15,
   "metadata": {},
   "outputs": [
    {
     "data": {
      "text/plain": [
       "{(3, 3), (3, 4), (4, 3), (4, 4)}"
      ]
     },
     "execution_count": 15,
     "metadata": {},
     "output_type": "execute_result"
    }
   ],
   "source": [
    "block"
   ]
  },
  {
   "cell_type": "code",
   "execution_count": 16,
   "metadata": {},
   "outputs": [
    {
     "data": {
      "text/plain": [
       "{(103, 203), (103, 204), (104, 203), (104, 204)}"
      ]
     },
     "execution_count": 16,
     "metadata": {},
     "output_type": "execute_result"
    }
   ],
   "source": [
    "slide(block, 100, 200)"
   ]
  },
  {
   "cell_type": "markdown",
   "metadata": {},
   "source": [
    "Let's run some examples. If you are viewing a static notebook, you will only see the last generation; rerun each cell to see all the generations."
   ]
  },
  {
   "cell_type": "code",
   "execution_count": 17,
   "metadata": {},
   "outputs": [
    {
     "data": {
      "text/html": [
       "<pre>Generation:  9, Population:  3\n",
       ". . . . . . . . . .\n",
       ". . . . . . . . . .\n",
       ". . . . @ . . . . .\n",
       ". . . . @ . . . . .\n",
       ". . . . @ . . . . .\n",
       ". . . . . . . . . .\n",
       ". . . . . . . . . .\n",
       ". . . . . . . . . .\n",
       ". . . . . . . . . .\n",
       ". . . . . . . . . .</pre>"
      ]
     },
     "metadata": {},
     "output_type": "display_data"
    }
   ],
   "source": [
    "animate_life(blinker)"
   ]
  },
  {
   "cell_type": "code",
   "execution_count": 18,
   "metadata": {},
   "outputs": [
    {
     "data": {
      "text/html": [
       "<pre>Generation:  9, Population:  6\n",
       ". . . . . . . . . .\n",
       ". . . . . . . . . .\n",
       ". . . . . . . . . .\n",
       ". . . @ @ . . . . .\n",
       ". . . @ . . . . . .\n",
       ". . . . . . @ . . .\n",
       ". . . . . @ @ . . .\n",
       ". . . . . . . . . .\n",
       ". . . . . . . . . .\n",
       ". . . . . . . . . .</pre>"
      ]
     },
     "metadata": {},
     "output_type": "display_data"
    }
   ],
   "source": [
    "animate_life(beacon)"
   ]
  },
  {
   "cell_type": "code",
   "execution_count": 19,
   "metadata": {},
   "outputs": [
    {
     "data": {
      "text/html": [
       "<pre>Generation:  9, Population:  6\n",
       ". . . . . . . . . .\n",
       ". . . . . . . . . .\n",
       ". . . . . @ . . . .\n",
       ". . . @ . . @ . . .\n",
       ". . . @ . . @ . . .\n",
       ". . . . @ . . . . .\n",
       ". . . . . . . . . .\n",
       ". . . . . . . . . .\n",
       ". . . . . . . . . .\n",
       ". . . . . . . . . .</pre>"
      ]
     },
     "metadata": {},
     "output_type": "display_data"
    }
   ],
   "source": [
    "animate_life(toad)"
   ]
  },
  {
   "cell_type": "code",
   "execution_count": 20,
   "metadata": {},
   "outputs": [
    {
     "data": {
      "text/html": [
       "<pre>Generation: 19, Population:  5\n",
       ". . . . . . . . . .\n",
       ". . . . . . . . . .\n",
       ". . . . . . . . . .\n",
       ". . . . . . . . . .\n",
       ". . . . . . . . . .\n",
       ". . . . . . . . . .\n",
       ". . . . . . . . . .\n",
       ". . . . . . . . . .\n",
       ". . . . . . . . @ .\n",
       ". . . . . . . . . @</pre>"
      ]
     },
     "metadata": {},
     "output_type": "display_data"
    }
   ],
   "source": [
    "animate_life(glider, 20)"
   ]
  },
  {
   "cell_type": "code",
   "execution_count": 21,
   "metadata": {},
   "outputs": [
    {
     "data": {
      "text/html": [
       "<pre>Generation: 129, Population: 163\n",
       ". . . . . . . . . . . . . . . . . . . . . . . . . . . . . . . . . . . . . . . . . . . . . . . .\n",
       ". . . . . . . . . . . . . . . . . . . . . . . . . . . . . . . . . . . . . . . . . . . . . . . .\n",
       ". . . . . . . . . . . . . . . . . . . . . . . . . . . . . . . . . . . . . . . . . . . . . . . .\n",
       ". . . . . . . . . . . . . . . . . . . . . . . . . . . . . . . . . . . . . . . . . . . . . . . .\n",
       ". . . . . . . . . . . . . . . . . . . . . . . . . . . . . . . . . . . . . . . . . . . . . . . .\n",
       ". . . . . . . . . . . . . . . . . . . . . . . . . . . . . . . . . . . . . . . . . . . . . . . .\n",
       ". . . . . . . . . . . . . . . . . . . . . . . . . . . . . . . @ @ @ . . . . . . . . . . . . . .\n",
       ". . . . . . . . . . . . . . . . . . . . . . . . . . . . . . . . . @ . . . . . . . . . . . . @ @\n",
       ". . . . . . . . . . . . . . . . . . . . . . . . . . . . . . . . @ . . . . . . . . . . . . . . .\n",
       ". . . . . . . . . . . . . . . . . . . . . . . . . . . . . . . . . . . . . . . . . . . . . . . .\n",
       ". . . . . . . . . . @ @ @ . . . . . . . . . . . . . . . . . . . . . . . . . . . . . . . . . @ @\n",
       ". . . . @ . . . @ @ . . @ . . . . . . . . . . . . . . . . . . . . . . . @ @ . . . . . . . @ . @\n",
       ". . . . @ . @ @ . . . . @ . . . . . . . . . . . . . . . . . . . . . . . @ @ . . . . . . . @ . @\n",
       ". . . . @ . . . . . . . @ . . . . . . . . . . . . . . . . . . . . . . . . . . . . . . . . . @ .\n",
       ". . . . . . . @ . . . @ . . . . . . . . . . . . . . . . . . . . . @ . . . . . . . . . . . . . .\n",
       ". . . . . . . . . . @ . . . . . . . . . . . . . . . . . . . . . . . @ . . . . . . . . . . . . .\n",
       ". . . . . . . @ . @ . . . . . . . . . . . . . . . . . . @ @ . . . . @ . . . . . . . . . . . . .\n",
       ". . . . . @ . . . @ @ . . . . . . . . . . . . . . . . @ @ @ . . . @ . . . . . . . . . . . . . .\n",
       ". . . . @ @ . . . @ . . . . . . . . . . . . . . . . . @ . . . . . . . . . . . . . . . . . @ @ @\n",
       ". . . . @ . . . . . . . . . . . . . . . . . . . . . . . @ @ . . . . . . . . . . . . . . . @ . .\n",
       ". . . . . @ . . @ . . . . . . . . . . . . . . . . . . . . . . . . . . . @ @ @ . . . . . . . @ @\n",
       ". . . . . @ @ @ . . . . . . . . . . . . . . . . . . . . . . . . . @ @ . @ @ @ . . . . . . . . .\n",
       ". . . . . . . . . . . . . . . . . . . . . . . . . . . . . . . . @ @ @ @ @ @ @ . . . @ . . . . .\n",
       "@ . . . @ @ @ . . . . . . . . . . . . . . . . . . . . . . . . @ @ @ @ . . . . . . @ . @ @ . . .\n",
       "@ . . . . . . . . . . . . . . . . . . . . . . . . . . . . . @ @ . . . . . . . . . . @ @ . . . .\n",
       ". . @ @ . . . . . . . . . . . . . . . . . . . . . . . . . . . @ . . . . . . . . . . @ . . . . .\n",
       ". . . @ . . @ @ . . . . . . . . . . . . . . . . . . . . . . . . @ @ @ @ @ . . . . . . . . . . .\n",
       "@ . . @ . . . . . . . . . . . @ @ . . . . . . . . . . . . . . . . @ @ @ . . . . . . . . . . . .\n",
       "@ @ . @ . . . . . . . . . . . @ @ . . . . . . . . . . . . . . . . . . @ . . . . . . . . . . . .\n",
       ". @ @ . . . . . . . . . . . . . . . . . . . . . . . . . . . . . . . . . . . . . . . . . . . . .\n",
       ". . . . . . . . . . . . . . . . . . . . . . . . . . . . . . . . . . . . . . . . . . . . . . . .\n",
       ". . . . . . . . . . . . . . . . . . . . . . . . . . . . . . . . . . . . . . . . . . . . . . . .\n",
       ". . . . . . . . . . . . . . . . . . . . . . . . . . . . . . . . . . . . . . . . . . . . . . . .\n",
       ". . @ @ @ . . . . . . . . . . . . . . . . . . . . . . . . . . . . . . . . . . . . . . . . . . .\n",
       ". . @ . . . @ @ . . . . . . . . . . . . . . . . . . . . . . . . . . . . . . . . . . . . . . . .\n",
       ". . . . @ . @ . . . . . . . . . . . . . . . . . . . . . . . . . . . . . . . . . . . . . . . . .\n",
       ". . @ @ @ @ . . . . . . . . . . . . . . . . . . . . . . . . . . . . . . . . . . . . . . . . . .\n",
       ". . @ . . . . . . . . . . . . . . . . . . . . . . . . . . . . . . . . . . . . . . . . . . . . .\n",
       ". . . . . . . . . . . . . . . . . . . . . . . . . . . . . . . . . . . . . . . . . . . . . . . .\n",
       ". . . . . . . . . . . . . . . . . . . . . . . . . . . . . . . . . . . . . . . . . . . . . . . .</pre>"
      ]
     },
     "metadata": {},
     "output_type": "display_data"
    }
   ],
   "source": [
    "animate_life(rpentomino, 130, range(48), range(40))"
   ]
  },
  {
   "cell_type": "code",
   "execution_count": 22,
   "metadata": {},
   "outputs": [
    {
     "data": {
      "text/html": [
       "<pre>Generation: 159, Population: 105\n",
       ". . . . . . . . . . . . . . . . . . . . . . . . . . . . . . . . . . . . . . . . . . . . . . . .\n",
       ". . . . . . . . . . . . . . . . . . . . . . . . . . . . . . . . . . . . . . . . . . . . . . . .\n",
       ". . . . . . . . . . . . . . . . . . . . . . . . . . . . . . . . . . . . . . . . . . @ . . . . @\n",
       ". . . . . . . . . . . . . . . . . . . . . . . . . . . . . . . . . . . . . . . . . @ . @ . . . @\n",
       ". . . . . . . . . . . . . . . . . . . . . . . . . . . . . . . . . . . . @ @ @ . . @ . @ . . @ .\n",
       ". . . . . . . . . . . . . . . . . . . . . . . . . . . . . . . . . . . @ @ . @ . . . @ @ . . . @\n",
       ". . . . . . . . . . . . . . . . . . . . . . . . . . . . . . . . . . @ . . . @ . . . . . . . . .\n",
       ". . . . . . . . . . . . . . . . . . . . . . . . @ . . . . . @ . . . @ . @ @ . . . . . . . . . .\n",
       ". . . . . . . . . . . . . . . . . . . . . . . . @ . . . @ @ . @ @ @ . . . @ . . . . . . . . . .\n",
       ". . . . . . . . . . . . . . . . . . . . . . . . @ . . . . . . @ @ . . @ @ @ @ . . . . . . . . .\n",
       ". . . . . . . . . . . . . . . . . . . . . . . . . . . . . . . . . @ . . . . @ . . . . . . . . .\n",
       ". . . . . . . . . . . . . . . . . . . . . . . . . . . . . . . . . @ @ @ @ @ @ . . . . . . . . .\n",
       ". . . . . . . . . . . . . . . . . . . . . . . . . . . . . . . . . @ . . . @ @ . . . . . . . @ .\n",
       ". . . . . . . . . . . . . . . . . . . . . . . . . . . . . . . . . @ . . @ . . . . . . . . @ @ .\n",
       ". . . . . . . . . . . . . . . . . . . . . . . . . . . . . . . . . . @ @ @ . . . . . . . . . @ .\n",
       ". . . . . . . . . . . . . . . . . . . . . . . . . . . . . . . . . . . . . . . . . . . . . . . @\n",
       ". . . . . . . . . . . . . . . . . . . . . . . . . . . . . . . . . . . . . . . . . . . . . . . .\n",
       ". . . . . . . . . . . . . . . . . . . . . . . . . . . . . . . . . . . . . . . . . . . . . . . .\n",
       ". . . . . . . . . . . . . . . . . . . . . . . . . . . . . . . . . . . . . . . . . . . . . . . .\n",
       ". . . . . . . . . . . . . . . . . . . . . . . . . . . . . . . . . . . . . . . . . . . . . . . .\n",
       ". . . . . . . . . . . . . . . . . . . . . . . . . . . . . . . . . . . . . . . . . @ @ . . . . .\n",
       ". . . . . . . . . . . . . . . . . . . . . . . . . . . . . . . . . . . . . . . . . @ @ . . . . .\n",
       ". . . . . . . . . . . . . . . . . . . . . . . . . . . . . . . . . . . . . . . . . . . . . . . .\n",
       ". . . . . . . . . . . . . . . . . . . . . . . . . . . . . . . . . . . . . . . . . . . . . . . .\n",
       ". . . . . . . . . . . . . . . . . . . . . . . . . . . . . . . . . . . . . . . . . . . . . . . .\n",
       ". . . . . . . . . . . . . . . . . . . . . . . . . . . . . . . . . . . . . . . . . . . . . . . .\n",
       ". . . . . . . . . . . . . . . . . . . . . . . . . . . . . . . . . . . . . . . . . . . . . . . .\n",
       ". . . . . . . . . @ . . . . . . . . . . . . . . . . . . . . . . . . . . . . . . . . . . . . . .\n",
       ". . . . . . . . . @ . . . . . . @ @ . . . . . . . . . . . . . . . . . . . . . . . . . . . . . .\n",
       ". . . . . . . . . @ . . . . . @ . . @ . . . . . . . . . . . . . . . . . . . . . . . . . . . . .\n",
       ". . . . . . . . . . . . . . . . @ @ . . . . . . . . . . . . . . . . . . . . . . . . . . . . . .\n",
       ". . . . . . . . . . . . . . . . . . . . . . . . . . . . . . . . . . . . . . . . . . . . . . . .\n",
       ". . . . . . . . . . . . . . . . . . . . . . . . . . . . . . . . . . . . . . . . . . . . . . . .\n",
       ". . . . . . . . . . . . . . . . . . . . . . . . . . . . . . . . . @ @ . . . . . . . . . . . . .\n",
       ". . . . . . . . . . . . . . . . . . . . . . . . . . . . . . . . . @ @ . . . . . . . . . . . . .\n",
       ". . . . . . . . . . . . . . . . . . . . . . . . . . . . . . . . . . . . . . . . . . . . . . . .\n",
       ". . . . . . . . . . . . . . . . . . . . . . . . . . . . . . . . . . . . . . . . . . . . . . . .\n",
       ". . . . . . . . . . . . . . . . . . . . . . . . . . . . . . . . . . . . . . . . . . . . . . . .\n",
       ". . . . . . . . . . . . . . . . . . . . . . . . . . . . . . . . . . . . . . . . . . . . . . . .\n",
       ". . . . . . . . . . . . . . . . . . . . . . . . . . . . . . . . . . . . . . . . . . . . . . . .</pre>"
      ]
     },
     "metadata": {},
     "output_type": "display_data"
    }
   ],
   "source": [
    "animate_life(zoo, 160, range(48), range(40))"
   ]
  },
  {
   "cell_type": "code",
   "execution_count": 23,
   "metadata": {},
   "outputs": [
    {
     "data": {
      "text/html": [
       "<pre>Generation: 199, Population: 100\n",
       ". . . . . . . . . . . . . . . . . . . . . . . . . . . . . . . . . . . . . . . .\n",
       ". . . . . . . . . . . . . . . . . . . . . . . . . . . . . . . . . . . . . . . .\n",
       ". . . . . . . . . @ @ @ . . . . . . . . . . . . . . . . . . . . . . . . . . . .\n",
       ". . . . . . . @ @ . . @ @ . . . . . . . . . . . . . . . . . . . . . . . . . . .\n",
       ". . . . . . @ . . @ . @ @ @ . . . @ . . . . . . . . . . . . . . . . . . . . . .\n",
       ". . . . . . @ . @ . . . @ @ @ . @ . . . @ @ . . @ @ . . . . . . . . . . . . . .\n",
       ". . . . . . @ . . . @ . @ @ @ . . . . . . @ @ . @ @ @ . . . . . . . . . . . . .\n",
       ". . . . . . . @ . . . @ @ @ . . . . . @ . @ . @ . . . @ @ . . . . . . . . . . .\n",
       ". . . . . . . . @ . . . @ . @ @ . . . . @ . . @ . @ . @ @ . . . . . . . . . . .\n",
       ". . . . . . . . . . . @ . . . @ . . @ @ . . . @ . @ . @ @ . . . . . . . . . . .\n",
       ". . . . . . . . . . . . . . . . @ @ @ . . . . . . . . . . . . . . . . . . . . .\n",
       ". . . . . . . . . . . . . . . . . . . . . . . . . . . . . . . . . . . . . . . .\n",
       ". . . . . . . . . . . . . . . . . . . . . . . . . . . . . . . . . . . . . . . .\n",
       ". . . . . . . . . . . . . . . . . . . . . @ @ . . . . . . . . . . . . . . . . .\n",
       ". . . . . . . . . . . . . . . . . . . . . . . . . . . . . . . . . . . . . . . .\n",
       ". . . . . . . . . . . . . . . . . . . . . . . . . . . . . . . . . . . . . . . .\n",
       ". . . . . . . . . . . . . . . . . . . . . . . . . . . . . . . . . . . . . . . .\n",
       ". . . . . . . . . . . . . . . . . . . . . . . . . . . @ . @ . . . . . . . . . .\n",
       ". . . . . . . . . . . . . . . . . . . . . . . . . . @ . . @ . . . . . . . . . .\n",
       ". . . . . . . . . . . . . . . . . . . . . . . @ . . . . . @ . . . . . . . . . .\n",
       ". . . . . . . . . . . . . . . . . . . . . . @ . @ @ . @ . . . . . . @ @ @ . . .\n",
       ". . . . . . . . . . . . . . . . . . . . . @ . . . @ @ @ . . . . . @ . . . . . .\n",
       ". . . . . . . . . . . . . . . . . . . . . . @ . . . @ . . . . . . @ . . @ . . .\n",
       ". . . . . . . . . . . . . . . . . . . . . . . @ @ @ @ . . . . . . . @ @ . . . .\n",
       ". . . . . . . . . . . . . . . . . . . . . . . . . . . . . . . . . . . . . . . .\n",
       ". . . . . . . . . . . . . . . . . . . . . . . . . . . . . . . . . . . . . . . .\n",
       ". . . . . . . . . . . . . . . . . . . . . . . . . . . . . . . . . . . . . . . .\n",
       ". . . . . . . . . . . . . . . . . . . . @ @ . . . . . . . . . . . . . . . . . .\n",
       ". . . . . . . . . . . . . . . . . . . . @ @ . . . . . . . . . . . . . . . . . .\n",
       ". . . . . . . . . . . . . . . . . . . . . . . . . . . . . . . . . . . . . . . .\n",
       ". . . . . . . . . . . . . . . . . . . . . . . . . . . . . . . . . . . . . . . .\n",
       ". . . . . . . . . . . . . . . . . . . . . . . . . . . . . . . . . . . . . . . .\n",
       ". . . . . . . . . . . . . . . . . . . . . . . . . . . . . . . . . . . . . . . .\n",
       ". . . . . . . . . . . . . . . . . . . . . . . . . . . . . . . . . . . . . . . .\n",
       ". . . . . . . . . . . . . . . . @ @ . . . . . . . . . . . . . . . . . . . . . .\n",
       ". . . . . . . . . . . . . . . . @ @ . . . . . . . . . . . . . . . . . . . . . .\n",
       ". . . . . . . . . . . . . . . . . . . . . . . . . . . . . . . . . . . . . . . .\n",
       ". . . . . . . . . . . . . . . . . . . . . . . . . . . . . . . . . . . . . . . .\n",
       ". . . . . . . . . . . . . . . . . . . . . . . . . . . . . . . . . . . . . . . .\n",
       ". . . . . . . . . . . . . . . . . . . . . . . . . . . . . . . . . . . . . . . .</pre>"
      ]
     },
     "metadata": {},
     "output_type": "display_data"
    }
   ],
   "source": [
    "animate_life(growth, 200, range(40), range(40))"
   ]
  },
  {
   "cell_type": "markdown",
   "metadata": {},
   "source": [
    "# Outside of IPython\n",
    "\n",
    "If you want to run this code in your terminal, outside of an Ipython/Jupyter notebook, you can remove the line:\n",
    "\n",
    "    from IPython.display import clear_output, display_html\n",
    "    \n",
    "and add these lines:\n",
    "\n",
    "    def clear_output(): print(\"\\033[;H\\033[2J\") # ANSI terminal home and clear\n",
    "    def display_html(text, raw=False): print(text) \n",
    "    def pre(text) -> str: return text\n",
    "    \n",
    "If you want to create a fancier display using some graphics packagee, be my guest. Let me know what you create.\n",
    "    \n",
    "# Coding Kata\n",
    "\n",
    "I once attended a [code kata](https://en.wikipedia.org/wiki/Kata_%28programming%29) in which one of the exercises was to write *Life* without using any conditional (e.g. `if`) statements.  I did it by using roughly the program shown here, but changing the lone `if` to a `filter` in `next_generation`:"
   ]
  },
  {
   "cell_type": "code",
   "execution_count": 24,
   "metadata": {},
   "outputs": [],
   "source": [
    "def next_generation(world):\n",
    "    \"\"\"The set of live cells in the next generation.\"\"\"\n",
    "    counts = neighbor_counts(world)\n",
    "    def live(cell): return counts[cell] == 3 or (counts[cell] == 2 and cell in world)\n",
    "    return set(filter(live, counts))"
   ]
  }
 ],
 "metadata": {
  "kernelspec": {
   "display_name": "Python 3",
   "language": "python",
   "name": "python3"
  },
  "language_info": {
   "codemirror_mode": {
    "name": "ipython",
    "version": 3
   },
   "file_extension": ".py",
   "mimetype": "text/x-python",
   "name": "python",
   "nbconvert_exporter": "python",
   "pygments_lexer": "ipython3",
   "version": "3.7.7"
  }
 },
 "nbformat": 4,
 "nbformat_minor": 1
}
