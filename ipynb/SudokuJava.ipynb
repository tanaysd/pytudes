{
 "cells": [
  {
   "cell_type": "markdown",
   "metadata": {},
   "source": [
    "<div style=\"text-align:right\" align=\"right\"><i>Peter Norvig<br>Oct. 2021</i></div>\n",
    "\n",
    "# Solving Sudoku at 100,000 puzzles per second\n",
    "\n",
    "The rules of [**Sudoku**](http://en.wikipedia.org/wiki/Sudoku) are simple and finite:  fill in the empty squares so that each column, row, and 3x3 box contains all the digits from 1 to 9.\n",
    "\n",
    "|Puzzle|Solution|\n",
    "|---|---|\n",
    "|![](https://upload.wikimedia.org/wikipedia/commons/thumb/e/e0/Sudoku_Puzzle_by_L2G-20050714_standardized_layout.svg/361px-Sudoku_Puzzle_by_L2G-20050714_standardized_layout.svg.png)|![](https://upload.wikimedia.org/wikipedia/commons/thumb/1/12/Sudoku_Puzzle_by_L2G-20050714_solution_standardized_layout.svg/361px-Sudoku_Puzzle_by_L2G-20050714_solution_standardized_layout.svg.png)|\n",
    "\n",
    "\n",
    "In 2006, I wrote a [Python program](http://norvig.com/sudoku.html) to solve [**Sudoku**](http://en.wikipedia.org/wiki/Sudoku). Soon after that,  [Peter Seibel](https://gigamonkeys.com/) invited me to publish an article  in [*Code Quarterly*](https://gigamonkeys.com/code-quarterly/) magazine which would go into more detail about backtracking search and constraint propagation in general, and would feature a  more efficient  program. Unfortunately, the magazine [folded](https://gigamonkeys.wordpress.com/2011/10/17/end-of-the-line-for-code-quarterly/) before I could finish the article. In 2021 I [updated the Python Sudoku program](Sudoku.ipynb) to Jupyter notebook form, with modern coding idioms, and now I do the same for the [more efficient Java Sudoku program](Sudoku.java). (I apologize for some remaining legacy Java idioms from decades ago).\n",
    "\n",
    "The [Java program](Sudoku.java) is similar to the [Python program](Sudoku.ipynb) in many ways:\n",
    "\n",
    "- They both represent a puzzle as a **grid** of 81 squares, with 27 **units** (9 rows, 9 columns, 9 boxes).\n",
    "- They both represent uncertainty about a square's contents with a **set** of the possible digits from 1 to 9.\n",
    "- They both do a depth-first [search](http://en.wikipedia.org/wiki/Search_algorithm) for a solution.\n",
    "  - They find an unfilled square with the fewest remaining possible digits, guess a digit to fill the square, and try to solve the rest of the puzzle from there. If that fails, back up and try a different guess for the square.\n",
    "  - Each guess is placed on a new *copy* of the board. If the guess turns out to be wrong, revert to the old board.\n",
    "- They both use [constraint propagation](http://en.wikipedia.org/wiki/Constraint_satisfaction) to limit the search:\n",
    "  - *The one rule:* After filling a square with a digit, eliminate the digit from all of the square's [peers](https://www.sudocue.net/guide.php#peers).\n",
    "  - *Arc consistency:* after eliminating a possible digit from a square, check that it still has some other possible digit.\n",
    "  - *Dual consistency:* after eliminating a possible digit from a square, check that another square in each of the square's 3 units could hold that digit.\n",
    "  - These changes do not require a new copy of the board, because they are logical consequences, not guesses.\n",
    "  - If a check fails, back up a level in the search.\n",
    "\n",
    "\n",
    "The [Python program](http://norvig.com/sudoku.html) was written for clarity and brevity; the [Java program](Sudoku.java) for efficiency. In particular:\n",
    "- Primitive Java data types are used:\n",
    "  - A grid is an `int[81]` array, not a hash table (dict). \n",
    "  - A square is an int (like `8`), not a string (like `'A9'`).\n",
    "  - A set of possible digits  is an int bitset (like `0b110010100`) not a string of digits (like `'9853'`). \n",
    "- Multiple puzzles are solved in parallel, in different threads.\n",
    "- Rather than allocating (and then garbage collecting) a new copy of the grid at each step in the depth-first search, instead  we pre-allocate a `gridpool` array of grids once and for all (at the start of each thread), and then every recursive call to `search` re-uses `gridpool[level]`. \n",
    "- The specific Sudoku strategy of [naked pairs](https://www.learn-sudoku.com/naked-pairs.html) is implemented.\n",
    "- Java is inherently faster than Python.\n",
    "    "
   ]
  },
  {
   "cell_type": "markdown",
   "metadata": {},
   "source": [
    "# Command Line Options\n",
    "\n",
    "Here are the options for the `java Sudoku` command:"
   ]
  },
  {
   "cell_type": "code",
   "execution_count": 1,
   "metadata": {},
   "outputs": [
    {
     "name": "stdout",
     "output_type": "stream",
     "text": [
      "usage: java Sudoku -(no)[fghnprstuv] | -[RT]<number> | <filename> ...\n",
      "E.g., -v turns verify flag on, -nov turns it off. -R and -T require a number. The options:\n",
      "\n",
      "  -f(ile)    Print summary stats for each file (default on)\n",
      "  -g(rid)    Print each puzzle grid and solution grid (default off)\n",
      "  -h(elp)    Print this usage message\n",
      "  -n(aked)   Run naked pairs (default on)\n",
      "  -p(uzzle)  Print summary stats for each puzzle (default off)\n",
      "  -r(everse) Solve the reverse of each puzzle as well as each puzzle itself (default off)\n",
      "  -s(earch)  Run search (default on, but some puzzles can be solved with CSP methods alone)\n",
      "  -t(hread)  Print summary stats for each thread (default off)\n",
      "  -u(nitTest)Run a suite of unit tests (default off)\n",
      "  -v(erify)  Verify each solution is valid (default on)\n",
      "  -T<number> Concurrently run <number> threads (default 26)\n",
      "  -R<number> Repeat each puzzle <number> times (default 1)\n",
      "  <filename> Solve all puzzles in filename, which has one puzzle per line\n"
     ]
    }
   ],
   "source": [
    "!java Sudoku -help"
   ]
  },
  {
   "cell_type": "markdown",
   "metadata": {},
   "source": [
    "# Benchmark Puzzles\n",
    "\n",
    "I gathered a collection of puzzles from various sources. I then added variants by permuting digits or rows of a puzzle (e.g. given a valid puzzle, if you swap the first and second row, or swap each 3 with each 7, you still have a valid puzzle). I ended up with exactly 250,000 puzzles:"
   ]
  },
  {
   "cell_type": "code",
   "execution_count": 2,
   "metadata": {},
   "outputs": [
    {
     "name": "stdout",
     "output_type": "stream",
     "text": [
      "  250000  250000 20500000 sudoku.txt\n"
     ]
    }
   ],
   "source": [
    "!wc sudoku.txt"
   ]
  },
  {
   "cell_type": "markdown",
   "metadata": {},
   "source": [
    "Below are the first 10  (the 9 rows of a puzzle are all run together on a line; a dot represents an empty square):"
   ]
  },
  {
   "cell_type": "code",
   "execution_count": 3,
   "metadata": {},
   "outputs": [
    {
     "name": "stdout",
     "output_type": "stream",
     "text": [
      "..7........1....3..5..4.6...4....7...6...3........1..2.....7.......6..8...2.....1\n",
      "..3..2.8.14......9.68.593.7..24.5...............2.85..9.457.86.6......75.8.6..4..\n",
      ".....4.....5.....3...8.1.6.......81..73........2..6.......2....14...........5...7\n",
      "......8..3...6.9.71.8.9..6..673...2....2.6....2...938..3..8.1.25.267...8..9......\n",
      "......7.4.1.5......6..........15.9..8.....3.....6.....4...97.....7..8..........1.\n",
      "..2..6..7......8.9.8..4..6.85.2..93.....3.....93..1.25.1..9..5.5.4......2..3..6..\n",
      ".....8......6.4.........1.7....9......5.....36......84..7.......4.....6.....269..\n",
      "....1......4....6....85............289............7.34.........15....8....3..4..7\n",
      "...9.........1..7..9...4.2..4.16.....5.3......1...7.533......1....58..4.8.....2..\n",
      ".......8...4....15..23.7........3...8.......1.....2..6........4....1.....26...7..\n"
     ]
    }
   ],
   "source": [
    "!head sudoku.txt"
   ]
  },
  {
   "cell_type": "markdown",
   "metadata": {},
   "source": [
    "# Sample Puzzle Solution\n",
    "\n",
    "Here is one puzzle and its solution:"
   ]
  },
  {
   "cell_type": "code",
   "execution_count": 4,
   "metadata": {},
   "outputs": [
    {
     "name": "stdout",
     "output_type": "stream",
     "text": [
      "\n",
      "Puzzle 1:                   Solution:\n",
      ". . 7 | . . . | . . .       6 9 7 | 5 3 8 | 1 2 4 \n",
      ". . 1 | . . . | . 3 .       4 2 1 | 7 9 6 | 8 3 5 \n",
      ". 5 . | . 4 . | 6 . .       3 5 8 | 1 4 2 | 6 7 9 \n",
      "------+-------+------       ------+-------+------\n",
      ". 4 . | . . . | 7 . .       1 4 3 | 8 2 9 | 7 5 6 \n",
      ". 6 . | . . 3 | . . .       2 6 5 | 4 7 3 | 9 1 8 \n",
      ". . . | . . 1 | . . 2       8 7 9 | 6 5 1 | 3 4 2 \n",
      "------+-------+------       ------+-------+------\n",
      ". . . | . . 7 | . . .       5 8 6 | 2 1 7 | 4 9 3 \n",
      ". . . | . 6 . | . 8 .       9 1 4 | 3 6 5 | 2 8 7 \n",
      ". . 2 | . . . | . . 1       7 3 2 | 9 8 4 | 5 6 1 \n"
     ]
    }
   ],
   "source": [
    "!java Sudoku -grid -nofile one.txt"
   ]
  },
  {
   "cell_type": "markdown",
   "metadata": {},
   "source": [
    "# Latency versus Throughput\n",
    "\n",
    "There are two measures of the efficiency of a program:\n",
    "1. **Latency** is the time it takes to solve a single puzzle.\n",
    "2. **Throughput** is the number of puzzles that can be solved in a given amount of time.\n",
    "\n",
    "These measures would amount to the same thing if there were only one processor available, but if, say, there are 10 processors working in parallel with no overhead and each puzzle takes 1 second to solve, then latency would be 1 second but throughput would be 10 puzzles per second.\n",
    "\n",
    "# Benchmark Timing Statistics\n",
    "\n",
    "Let's run the program and print two lines of summary timing statistics: one line for the 250,000 puzzles in `sudoku.txt`, and one line where the  `-r` option specifies that the reverse of each puzzle is also solved (the last square becomes the first, etc.), and the  `-R2` option specifies that each puzzle is repeated twice, for a total of  2 × 2 × 250,000 = a million puzzles.  (The idea is that there will be less variance if there are more puzzles to solve, and also that the effect of any JIT cache warmup period will be lessened.) "
   ]
  },
  {
   "cell_type": "code",
   "execution_count": 5,
   "metadata": {},
   "outputs": [
    {
     "name": "stdout",
     "output_type": "stream",
     "text": [
      "Puzzles   μsec     KHz Threads Backtracks Name\n",
      "======= ====== ======= ======= ========== ====\n",
      " 250000   10.7  93.400      26       30.3 sudoku.txt\n",
      "1000000    8.5 117.781      26       31.4 sudoku.txt\n"
     ]
    }
   ],
   "source": [
    "!java Sudoku sudoku.txt -r -R2 sudoku.txt "
   ]
  },
  {
   "cell_type": "markdown",
   "metadata": {},
   "source": [
    "We solved a million puzzles with a throughput of **over 100,000 puzzles per second**. Not too shabby! \n",
    "\n",
    "The columns of the output are:\n",
    "\n",
    "- `Puzzles`: the total number of puzzles solved.\n",
    "- `μsec`: the throughput expressed as average time to solve a puzzle in microseconds (millionths of a second).\n",
    "- `KHz`: the throughput expressed as thousands of puzzles solved per second.\n",
    "- `Threads`: the number of concurrent threads.\n",
    "- `Backtracks`: the average number of times per puzzle that the search guessed wrong and had to back up.\n",
    "- `Name`: here the name of the file; could also be the name of a thread or puzzle.\n",
    "\n",
    "To determine the latency, use the `-T1` option to request a single thread:"
   ]
  },
  {
   "cell_type": "code",
   "execution_count": 6,
   "metadata": {},
   "outputs": [
    {
     "name": "stdout",
     "output_type": "stream",
     "text": [
      "Puzzles   μsec     KHz Threads Backtracks Name\n",
      "======= ====== ======= ======= ========== ====\n",
      " 250000   98.5  10.148       1       34.2 sudoku.txt\n"
     ]
    }
   ],
   "source": [
    "!java Sudoku -T1 sudoku.txt"
   ]
  },
  {
   "cell_type": "markdown",
   "metadata": {},
   "source": [
    "The average latency is about 100 μsec (or 1/10,000th of a second)."
   ]
  },
  {
   "cell_type": "markdown",
   "metadata": {},
   "source": [
    "# Effect of Number of Threads\n",
    "\n",
    "I'm running these benchmarks on a [10-core Intel Comet Lake core i9 processor](https://everymac.com/systems/apple/imac/specs/imac-core-i9-3.6-10-core-27-inch-retina-5k-2020-20-2-specs.html) with [hyperthreading](https://www.intel.com/content/www/us/en/gaming/resources/hyper-threading.html) that allows 20 threads to run at once. So I expected that peak throughput would be at 20 threads–any more than that, and there would be overhead of swapping threads in and out. Let's look at this plot of throughput  versus number of threads:"
   ]
  },
  {
   "cell_type": "code",
   "execution_count": 7,
   "metadata": {},
   "outputs": [
    {
     "data": {
      "image/png": "[encoded data removed]",
      "text/plain": [
       "<Figure size 432x288 with 1 Axes>"
      ]
     },
     "metadata": {
      "needs_background": "light"
     },
     "output_type": "display_data"
    }
   ],
   "source": [
    "import matplotlib.pyplot as plt\n",
    "\n",
    "# Previously-collected {number_of_threads: KHz} data\n",
    "T = {1:    9.760,  5:  46.362, 10:  81.680, 15:   97.457, 20: 115.467, 25: 116.169, \n",
    "     26: 118.546, 27: 118.524, 28: 116.736, 29: 116.013, 30: 115.467, 35: 113.780}\n",
    "\n",
    "plt.plot(list(T), list(T.values()), 'o:'); plt.grid()\n",
    "plt.xlabel('Number of threads'); plt.ylabel('KHz: 1000 Puzzles / second');"
   ]
  },
  {
   "cell_type": "markdown",
   "metadata": {},
   "source": [
    "It looks like there is a plateau between 20 and 30 threads: they all have about the same throughput, with  a slight peak at 26 or 27 threads. Why doesn't throughput start to go down after 20 threads? The program works by dividing up the puzzles into fixed-size shards and handing a shard to each thread. If it happens that one thread gets a particularly easy shard of puzzles, then it will terminate early. With 20 threads, that would mean that part of the CPU would become idle with no more work to do. With a few more than 20 threads, there would be an extra thread ready to be swapped in when the easy thread(s) terminate early. Apparently the advantage of that outweights the disadvantage of having to swap some threads in and out. Of course, the computer is also running a few threads to keep the Jupyter notebook, the browser, the display, the network, and other things up and running."
   ]
  },
  {
   "cell_type": "markdown",
   "metadata": {},
   "source": [
    "# Effect of Naked Pairs Strategy\n",
    "\n",
    "The Java program explicitly uses the [naked pairs strategy](https://www.learn-sudoku.com/naked-pairs.html) to eliminate some possible digits, whereas the Python program would have to make guesses to get the same solution. We can check how much the naked pairs strategy helps by disabling it with the `-nonaked` option:"
   ]
  },
  {
   "cell_type": "code",
   "execution_count": 8,
   "metadata": {},
   "outputs": [
    {
     "name": "stdout",
     "output_type": "stream",
     "text": [
      "Puzzles   μsec     KHz Threads Backtracks Name\n",
      "======= ====== ======= ======= ========== ====\n",
      "1000000    9.1 109.824      26       30.7 sudoku.txt\n",
      "1000000   14.3  70.025      26       94.9 sudoku.txt\n"
     ]
    }
   ],
   "source": [
    "!java Sudoku -r -R2 sudoku.txt -nonaked sudoku.txt"
   ]
  },
  {
   "cell_type": "markdown",
   "metadata": {},
   "source": [
    "It makes a noticable difference: throughput decreases from 110 KHz to 70 KHz without it. Perhaps implementing [other strategies](https://bestofsudoku.com/sudoku-strategy) could give similar speedups. However, my feeling is that the program is already fast enough, and there would probably be diminishing returns from further strategies."
   ]
  },
  {
   "cell_type": "markdown",
   "metadata": {},
   "source": [
    "# Hardest(?) Puzzles\n",
    "\n",
    "Here is a collection of 10 puzzles that have been nominated as \"hardest\":"
   ]
  },
  {
   "cell_type": "code",
   "execution_count": 9,
   "metadata": {},
   "outputs": [
    {
     "name": "stdout",
     "output_type": "stream",
     "text": [
      "85...24..72......9..4.........1.7..23.5...9...4...........8..7..17..........36.4.\n",
      "..53.....8......2..7..1.5..4....53...1..7...6..32...8..6.5....9..4....3......97..\n",
      "12..4......5.69.1...9...5.........7.7...52.9..3......2.9.6...5.4..9..8.1..3...9.4\n",
      "...57..3.1......2.7...234......8...4..7..4...49....6.5.42...3.....7..9....18.....\n",
      "1....7.9..3..2...8..96..5....53..9...1..8...26....4...3......1..4......7..7...3..\n",
      "1...34.8....8..5....4.6..21.18......3..1.2..6......81.52..7.9....6..9....9.64...2\n",
      "...92......68.3...19..7...623..4.1....1...7....8.3..297...8..91...5.72......64...\n",
      ".6.5.4.3.1...9...8.........9...5...6.4.6.2.7.7...4...5.........4...8...1.5.2.3.4.\n",
      "7.....4...2..7..8...3..8.799..5..3...6..2..9...1.97..6...3..9...3..4..6...9..1.35\n",
      "....7..2.8.......6.1.2.5...9.54....8.........3....85.1...3.2.8.4.......9.7..6....\n"
     ]
    }
   ],
   "source": [
    "!cat hardest.txt"
   ]
  },
  {
   "cell_type": "markdown",
   "metadata": {},
   "source": [
    "We can compare performance of these puzzles with the benchmark puzzles. To keep things fair, use 20 threads for both (with reversed puzzles included, that's 20 \"hardest\" puzzles, so 1 per thread) and 500,000 total puzzles for both:"
   ]
  },
  {
   "cell_type": "code",
   "execution_count": 10,
   "metadata": {},
   "outputs": [
    {
     "name": "stdout",
     "output_type": "stream",
     "text": [
      "Puzzles   μsec     KHz Threads Backtracks Name\n",
      "======= ====== ======= ======= ========== ====\n",
      " 500000   14.0  71.562      20       10.4 hardest.txt\n",
      " 500000    9.0 111.215      20       31.4 sudoku.txt\n"
     ]
    }
   ],
   "source": [
    "!java Sudoku -r -T20 -R25000 hardest.txt -R1 sudoku.txt "
   ]
  },
  {
   "cell_type": "markdown",
   "metadata": {},
   "source": [
    "This suggests these puzzles are indeed harder than average, by roughly 50%. One interesting point  is that the number of backtracks is below average for the \"hardest\" puzzles. \n",
    "\n",
    "I can get timing and backtrack data for individual puzzles with the `-p` option:"
   ]
  },
  {
   "cell_type": "code",
   "execution_count": 11,
   "metadata": {},
   "outputs": [
    {
     "name": "stdout",
     "output_type": "stream",
     "text": [
      "Puzzles   μsec     KHz Threads Backtracks Name\n",
      "======= ====== ======= ======= ========== ====\n",
      "      1  598.9   1.670       1        1.0 Puzzle 1\n",
      "      1  172.2   5.807       1        6.0 Puzzle 2\n",
      "      1  212.7   4.702       1       13.0 Puzzle 3\n",
      "      1  182.9   5.467       1       12.0 Puzzle 4\n",
      "      1  109.1   9.170       1        0.0 Puzzle 5\n",
      "      1  172.3   5.803       1        8.0 Puzzle 6\n",
      "      1  194.5   5.142       1        6.0 Puzzle 7\n",
      "      1  213.2   4.690       1        9.0 Puzzle 8\n",
      "      1  265.2   3.771       1       11.0 Puzzle 9\n",
      "      1  631.3   1.584       1       79.0 Puzzle 10\n",
      "      1  147.9   6.763       1        1.0 Puzzle 11\n",
      "      1  110.4   9.057       1        0.0 Puzzle 12\n",
      "      1  113.8   8.788       1        0.0 Puzzle 13\n",
      "      1  125.1   7.996       1        3.0 Puzzle 14\n",
      "      1  125.2   7.987       1        1.0 Puzzle 15\n",
      "      1  120.3   8.309       1        0.0 Puzzle 16\n",
      "      1  126.0   7.938       1        2.0 Puzzle 17\n",
      "      1  104.1   9.609       1        0.0 Puzzle 18\n",
      "      1  201.5   4.963       1       10.0 Puzzle 19\n",
      "      1  425.1   2.352       1       48.0 Puzzle 20\n",
      "     20  559.5   1.787       1        0.0 hardest.txt\n"
     ]
    }
   ],
   "source": [
    "!java Sudoku -r -T1 -p hardest.txt"
   ]
  },
  {
   "cell_type": "markdown",
   "metadata": {},
   "source": [
    "A few puzzles take about half a millisecond each; the other puzzles are faster. Overall, I think the claim of \"hardest\" is overblown."
   ]
  },
  {
   "cell_type": "markdown",
   "metadata": {},
   "source": [
    "# Distribution of Puzzle Difficulty\n",
    "\n",
    "What's the distribution of puzzle run times across the benchmark puzzles? Of number of backtracks?\n",
    "\n",
    "I can get data  for individual puzzles with the `-p` option, then eliminate the header lines with `fgrep \".\"`, then [cut](https://linuxize.com/post/linux-cut-command/) out just the characters of each line that denote the μsec and Backtracks columns. The following line does that, but it is commented out for now because the output is already captured in `sudata.txt` and does not need to be generated again."
   ]
  },
  {
   "cell_type": "code",
   "execution_count": 12,
   "metadata": {},
   "outputs": [],
   "source": [
    "#!java Sudoku -T1 -r -nofile hardest.txt -p Sudoku.txt | fgrep \".\" | cut -c8-15 -c31-39 > sudata.txt"
   ]
  },
  {
   "cell_type": "markdown",
   "metadata": {},
   "source": [
    "Next, load the data into a pandas dataframe and describe it:"
   ]
  },
  {
   "cell_type": "code",
   "execution_count": 13,
   "metadata": {},
   "outputs": [
    {
     "data": {
      "text/html": [
       "<div>\n",
       "<style scoped>\n",
       "    .dataframe tbody tr th:only-of-type {\n",
       "        vertical-align: middle;\n",
       "    }\n",
       "\n",
       "    .dataframe tbody tr th {\n",
       "        vertical-align: top;\n",
       "    }\n",
       "\n",
       "    .dataframe thead th {\n",
       "        text-align: right;\n",
       "    }\n",
       "</style>\n",
       "<table border=\"1\" class=\"dataframe\">\n",
       "  <thead>\n",
       "    <tr style=\"text-align: right;\">\n",
       "      <th></th>\n",
       "      <th>μsec</th>\n",
       "      <th>backtracks</th>\n",
       "    </tr>\n",
       "  </thead>\n",
       "  <tbody>\n",
       "    <tr>\n",
       "      <th>count</th>\n",
       "      <td>500000.000000</td>\n",
       "      <td>500000.000000</td>\n",
       "    </tr>\n",
       "    <tr>\n",
       "      <th>mean</th>\n",
       "      <td>94.786948</td>\n",
       "      <td>32.050252</td>\n",
       "    </tr>\n",
       "    <tr>\n",
       "      <th>std</th>\n",
       "      <td>226.471924</td>\n",
       "      <td>152.089871</td>\n",
       "    </tr>\n",
       "    <tr>\n",
       "      <th>min</th>\n",
       "      <td>34.500000</td>\n",
       "      <td>0.000000</td>\n",
       "    </tr>\n",
       "    <tr>\n",
       "      <th>25%</th>\n",
       "      <td>43.500000</td>\n",
       "      <td>1.000000</td>\n",
       "    </tr>\n",
       "    <tr>\n",
       "      <th>50%</th>\n",
       "      <td>53.100000</td>\n",
       "      <td>4.000000</td>\n",
       "    </tr>\n",
       "    <tr>\n",
       "      <th>75%</th>\n",
       "      <td>81.500000</td>\n",
       "      <td>18.000000</td>\n",
       "    </tr>\n",
       "    <tr>\n",
       "      <th>max</th>\n",
       "      <td>22856.310000</td>\n",
       "      <td>8145.000000</td>\n",
       "    </tr>\n",
       "  </tbody>\n",
       "</table>\n",
       "</div>"
      ],
      "text/plain": [
       "                μsec     backtracks\n",
       "count  500000.000000  500000.000000\n",
       "mean       94.786948      32.050252\n",
       "std       226.471924     152.089871\n",
       "min        34.500000       0.000000\n",
       "25%        43.500000       1.000000\n",
       "50%        53.100000       4.000000\n",
       "75%        81.500000      18.000000\n",
       "max     22856.310000    8145.000000"
      ]
     },
     "execution_count": 13,
     "metadata": {},
     "output_type": "execute_result"
    }
   ],
   "source": [
    "import pandas as pd\n",
    "sudata = pd.read_csv('sudata.txt', delim_whitespace=True, names=['μsec', 'backtracks'])\n",
    "sudata.describe()"
   ]
  },
  {
   "cell_type": "markdown",
   "metadata": {},
   "source": [
    "The mean latency is a bit under 100 microseconds, the median is 53.1 microseconds, and the maximum is about 23,000 microseconds, or 1/40th of a second. For backtracks, the mean is 32, the median is only 4, and the maximum is over 8,000. \n",
    "\n",
    "It may help to look at a scatterplot:"
   ]
  },
  {
   "cell_type": "code",
   "execution_count": 14,
   "metadata": {},
   "outputs": [
    {
     "data": {
      "image/png": "[encoded data removed]",
      "text/plain": [
       "<Figure size 432x288 with 1 Axes>"
      ]
     },
     "metadata": {
      "needs_background": "light"
     },
     "output_type": "display_data"
    }
   ],
   "source": [
    "sudata.plot.scatter(y='backtracks', x='μsec', marker='.');"
   ]
  },
  {
   "cell_type": "markdown",
   "metadata": {},
   "source": [
    "**Wow! That's unusual!** I expected the comet-tail-shaped cluster to the left, but I did ***not*** expect the small cluster of outlier points in the lower right corner (all with 10000+ μsec and 500—2000 backtracks).  \n",
    "\n",
    "Let's look at the outliers more closely:"
   ]
  },
  {
   "cell_type": "code",
   "execution_count": 15,
   "metadata": {},
   "outputs": [
    {
     "data": {
      "image/png": "[encoded data removed]",
      "text/plain": [
       "<Figure size 432x288 with 1 Axes>"
      ]
     },
     "metadata": {
      "needs_background": "light"
     },
     "output_type": "display_data"
    }
   ],
   "source": [
    "outliers = sudata[sudata['μsec'] > 10_000]\n",
    "\n",
    "outliers.plot.scatter(y='backtracks', x='μsec', marker='o');"
   ]
  },
  {
   "cell_type": "code",
   "execution_count": 16,
   "metadata": {},
   "outputs": [
    {
     "data": {
      "text/html": [
       "<div>\n",
       "<style scoped>\n",
       "    .dataframe tbody tr th:only-of-type {\n",
       "        vertical-align: middle;\n",
       "    }\n",
       "\n",
       "    .dataframe tbody tr th {\n",
       "        vertical-align: top;\n",
       "    }\n",
       "\n",
       "    .dataframe thead th {\n",
       "        text-align: right;\n",
       "    }\n",
       "</style>\n",
       "<table border=\"1\" class=\"dataframe\">\n",
       "  <thead>\n",
       "    <tr style=\"text-align: right;\">\n",
       "      <th></th>\n",
       "      <th>μsec</th>\n",
       "      <th>backtracks</th>\n",
       "    </tr>\n",
       "  </thead>\n",
       "  <tbody>\n",
       "    <tr>\n",
       "      <th>count</th>\n",
       "      <td>24.000000</td>\n",
       "      <td>24.000000</td>\n",
       "    </tr>\n",
       "    <tr>\n",
       "      <th>mean</th>\n",
       "      <td>13059.210000</td>\n",
       "      <td>976.000000</td>\n",
       "    </tr>\n",
       "    <tr>\n",
       "      <th>std</th>\n",
       "      <td>3374.607334</td>\n",
       "      <td>319.690339</td>\n",
       "    </tr>\n",
       "    <tr>\n",
       "      <th>min</th>\n",
       "      <td>10230.310000</td>\n",
       "      <td>645.000000</td>\n",
       "    </tr>\n",
       "    <tr>\n",
       "      <th>25%</th>\n",
       "      <td>10789.560000</td>\n",
       "      <td>760.000000</td>\n",
       "    </tr>\n",
       "    <tr>\n",
       "      <th>50%</th>\n",
       "      <td>11910.210000</td>\n",
       "      <td>849.000000</td>\n",
       "    </tr>\n",
       "    <tr>\n",
       "      <th>75%</th>\n",
       "      <td>12998.510000</td>\n",
       "      <td>1021.250000</td>\n",
       "    </tr>\n",
       "    <tr>\n",
       "      <th>max</th>\n",
       "      <td>22856.310000</td>\n",
       "      <td>1957.000000</td>\n",
       "    </tr>\n",
       "  </tbody>\n",
       "</table>\n",
       "</div>"
      ],
      "text/plain": [
       "               μsec   backtracks\n",
       "count     24.000000    24.000000\n",
       "mean   13059.210000   976.000000\n",
       "std     3374.607334   319.690339\n",
       "min    10230.310000   645.000000\n",
       "25%    10789.560000   760.000000\n",
       "50%    11910.210000   849.000000\n",
       "75%    12998.510000  1021.250000\n",
       "max    22856.310000  1957.000000"
      ]
     },
     "execution_count": 16,
     "metadata": {},
     "output_type": "execute_result"
    }
   ],
   "source": [
    "outliers.describe()"
   ]
  },
  {
   "cell_type": "markdown",
   "metadata": {},
   "source": [
    "Only 24 puzzles in total take more than 10 milliseconds; only 5 are over 14 milliseconds; only 1 is over 20 milliseconds. I was worried there was going to be a long tail of times, and clearly this is not a normal distribution, but neither does it seem to be a distribution where the long tail just keeps on going forever. If I solved another million random puzzles I would not be surprised to find a puzzle that doubles the maximum run time, but I would be surprised to find one that increases the run time by a factor of 10.\n",
    "\n",
    "Within the outliers, backtracks correlate very highly with run time (just as with the non-outliers). But as a whole, the outliers take more run time than any of the other 500,000 puzzles and have far fewer backtracks than any other puzzles with comparable run times. \n",
    "\n",
    "I'm imaging that when solving the outliers, the solution takes a step, then has a long chain of constraint propagation only to find a contradiction at the very end, then backs up and takes another step. But I don't really understand the mystery of these outliers. \n",
    "\n",
    "Here are all of them:"
   ]
  },
  {
   "cell_type": "code",
   "execution_count": 17,
   "metadata": {},
   "outputs": [
    {
     "data": {
      "text/html": [
       "<div>\n",
       "<style scoped>\n",
       "    .dataframe tbody tr th:only-of-type {\n",
       "        vertical-align: middle;\n",
       "    }\n",
       "\n",
       "    .dataframe tbody tr th {\n",
       "        vertical-align: top;\n",
       "    }\n",
       "\n",
       "    .dataframe thead th {\n",
       "        text-align: right;\n",
       "    }\n",
       "</style>\n",
       "<table border=\"1\" class=\"dataframe\">\n",
       "  <thead>\n",
       "    <tr style=\"text-align: right;\">\n",
       "      <th></th>\n",
       "      <th>μsec</th>\n",
       "      <th>backtracks</th>\n",
       "    </tr>\n",
       "  </thead>\n",
       "  <tbody>\n",
       "    <tr>\n",
       "      <th>7803</th>\n",
       "      <td>16931.41</td>\n",
       "      <td>1269</td>\n",
       "    </tr>\n",
       "    <tr>\n",
       "      <th>8828</th>\n",
       "      <td>10820.31</td>\n",
       "      <td>700</td>\n",
       "    </tr>\n",
       "    <tr>\n",
       "      <th>13143</th>\n",
       "      <td>12979.51</td>\n",
       "      <td>973</td>\n",
       "    </tr>\n",
       "    <tr>\n",
       "      <th>78290</th>\n",
       "      <td>12495.71</td>\n",
       "      <td>819</td>\n",
       "    </tr>\n",
       "    <tr>\n",
       "      <th>106137</th>\n",
       "      <td>10697.31</td>\n",
       "      <td>785</td>\n",
       "    </tr>\n",
       "    <tr>\n",
       "      <th>121433</th>\n",
       "      <td>10497.51</td>\n",
       "      <td>645</td>\n",
       "    </tr>\n",
       "    <tr>\n",
       "      <th>129467</th>\n",
       "      <td>10274.61</td>\n",
       "      <td>756</td>\n",
       "    </tr>\n",
       "    <tr>\n",
       "      <th>145734</th>\n",
       "      <td>11011.01</td>\n",
       "      <td>746</td>\n",
       "    </tr>\n",
       "    <tr>\n",
       "      <th>174777</th>\n",
       "      <td>12974.81</td>\n",
       "      <td>972</td>\n",
       "    </tr>\n",
       "    <tr>\n",
       "      <th>183889</th>\n",
       "      <td>22856.31</td>\n",
       "      <td>1957</td>\n",
       "    </tr>\n",
       "    <tr>\n",
       "      <th>185319</th>\n",
       "      <td>12170.31</td>\n",
       "      <td>1049</td>\n",
       "    </tr>\n",
       "    <tr>\n",
       "      <th>191476</th>\n",
       "      <td>12289.61</td>\n",
       "      <td>814</td>\n",
       "    </tr>\n",
       "    <tr>\n",
       "      <th>210897</th>\n",
       "      <td>11945.81</td>\n",
       "      <td>760</td>\n",
       "    </tr>\n",
       "    <tr>\n",
       "      <th>286509</th>\n",
       "      <td>10230.31</td>\n",
       "      <td>796</td>\n",
       "    </tr>\n",
       "    <tr>\n",
       "      <th>300232</th>\n",
       "      <td>10466.41</td>\n",
       "      <td>899</td>\n",
       "    </tr>\n",
       "    <tr>\n",
       "      <th>323446</th>\n",
       "      <td>11095.31</td>\n",
       "      <td>747</td>\n",
       "    </tr>\n",
       "    <tr>\n",
       "      <th>349262</th>\n",
       "      <td>11023.11</td>\n",
       "      <td>808</td>\n",
       "    </tr>\n",
       "    <tr>\n",
       "      <th>356953</th>\n",
       "      <td>11874.61</td>\n",
       "      <td>1012</td>\n",
       "    </tr>\n",
       "    <tr>\n",
       "      <th>363304</th>\n",
       "      <td>10611.71</td>\n",
       "      <td>879</td>\n",
       "    </tr>\n",
       "    <tr>\n",
       "      <th>397206</th>\n",
       "      <td>18339.81</td>\n",
       "      <td>1454</td>\n",
       "    </tr>\n",
       "    <tr>\n",
       "      <th>410566</th>\n",
       "      <td>19241.21</td>\n",
       "      <td>1554</td>\n",
       "    </tr>\n",
       "    <tr>\n",
       "      <th>461841</th>\n",
       "      <td>11869.61</td>\n",
       "      <td>760</td>\n",
       "    </tr>\n",
       "    <tr>\n",
       "      <th>473968</th>\n",
       "      <td>13055.51</td>\n",
       "      <td>927</td>\n",
       "    </tr>\n",
       "    <tr>\n",
       "      <th>485668</th>\n",
       "      <td>17669.21</td>\n",
       "      <td>1343</td>\n",
       "    </tr>\n",
       "  </tbody>\n",
       "</table>\n",
       "</div>"
      ],
      "text/plain": [
       "            μsec  backtracks\n",
       "7803    16931.41        1269\n",
       "8828    10820.31         700\n",
       "13143   12979.51         973\n",
       "78290   12495.71         819\n",
       "106137  10697.31         785\n",
       "121433  10497.51         645\n",
       "129467  10274.61         756\n",
       "145734  11011.01         746\n",
       "174777  12974.81         972\n",
       "183889  22856.31        1957\n",
       "185319  12170.31        1049\n",
       "191476  12289.61         814\n",
       "210897  11945.81         760\n",
       "286509  10230.31         796\n",
       "300232  10466.41         899\n",
       "323446  11095.31         747\n",
       "349262  11023.11         808\n",
       "356953  11874.61        1012\n",
       "363304  10611.71         879\n",
       "397206  18339.81        1454\n",
       "410566  19241.21        1554\n",
       "461841  11869.61         760\n",
       "473968  13055.51         927\n",
       "485668  17669.21        1343"
      ]
     },
     "execution_count": 17,
     "metadata": {},
     "output_type": "execute_result"
    }
   ],
   "source": [
    "outliers"
   ]
  },
  {
   "cell_type": "markdown",
   "metadata": {},
   "source": [
    "One weakness of a scatter plot as a visualization tool is that there can be lots of points plotted on top of each other, and you can't tell the density of such points. A histogram portrays density better (but on only one attribute at a time):"
   ]
  },
  {
   "cell_type": "code",
   "execution_count": 18,
   "metadata": {},
   "outputs": [
    {
     "data": {
      "image/png": "[encoded data removed]",
      "text/plain": [
       "<Figure size 432x288 with 2 Axes>"
      ]
     },
     "metadata": {
      "needs_background": "light"
     },
     "output_type": "display_data"
    }
   ],
   "source": [
    "sudata.hist(rwidth=0.7, log=True, bins=20);"
   ]
  },
  {
   "cell_type": "markdown",
   "metadata": {},
   "source": [
    "For both attributes, almost all the puzzles are in the leftmost bin (the first bar goes almost up to the 5 × 10<sup>5</sup> line; the second bar is more than two horizontal lines down on the log scale, thus more than 100 times smaller). "
   ]
  },
  {
   "cell_type": "markdown",
   "metadata": {},
   "source": [
    "Below we zoom in on the puzzles that take 10 backtracks or less. 330,000 out of 500,000 have 10 or less; 189,000 have zero or one backtrack. They all take less than 1/4 millisecond:"
   ]
  },
  {
   "cell_type": "code",
   "execution_count": 19,
   "metadata": {},
   "outputs": [
    {
     "data": {
      "text/html": [
       "<div>\n",
       "<style scoped>\n",
       "    .dataframe tbody tr th:only-of-type {\n",
       "        vertical-align: middle;\n",
       "    }\n",
       "\n",
       "    .dataframe tbody tr th {\n",
       "        vertical-align: top;\n",
       "    }\n",
       "\n",
       "    .dataframe thead th {\n",
       "        text-align: right;\n",
       "    }\n",
       "</style>\n",
       "<table border=\"1\" class=\"dataframe\">\n",
       "  <thead>\n",
       "    <tr style=\"text-align: right;\">\n",
       "      <th></th>\n",
       "      <th>μsec</th>\n",
       "      <th>backtracks</th>\n",
       "    </tr>\n",
       "  </thead>\n",
       "  <tbody>\n",
       "    <tr>\n",
       "      <th>count</th>\n",
       "      <td>330155.000000</td>\n",
       "      <td>330155.000000</td>\n",
       "    </tr>\n",
       "    <tr>\n",
       "      <th>mean</th>\n",
       "      <td>48.805696</td>\n",
       "      <td>2.312011</td>\n",
       "    </tr>\n",
       "    <tr>\n",
       "      <th>std</th>\n",
       "      <td>10.164409</td>\n",
       "      <td>2.795918</td>\n",
       "    </tr>\n",
       "    <tr>\n",
       "      <th>min</th>\n",
       "      <td>34.500000</td>\n",
       "      <td>0.000000</td>\n",
       "    </tr>\n",
       "    <tr>\n",
       "      <th>25%</th>\n",
       "      <td>42.100000</td>\n",
       "      <td>0.000000</td>\n",
       "    </tr>\n",
       "    <tr>\n",
       "      <th>50%</th>\n",
       "      <td>45.300000</td>\n",
       "      <td>1.000000</td>\n",
       "    </tr>\n",
       "    <tr>\n",
       "      <th>75%</th>\n",
       "      <td>52.900000</td>\n",
       "      <td>4.000000</td>\n",
       "    </tr>\n",
       "    <tr>\n",
       "      <th>max</th>\n",
       "      <td>245.100000</td>\n",
       "      <td>10.000000</td>\n",
       "    </tr>\n",
       "  </tbody>\n",
       "</table>\n",
       "</div>"
      ],
      "text/plain": [
       "                μsec     backtracks\n",
       "count  330155.000000  330155.000000\n",
       "mean       48.805696       2.312011\n",
       "std        10.164409       2.795918\n",
       "min        34.500000       0.000000\n",
       "25%        42.100000       0.000000\n",
       "50%        45.300000       1.000000\n",
       "75%        52.900000       4.000000\n",
       "max       245.100000      10.000000"
      ]
     },
     "execution_count": 19,
     "metadata": {},
     "output_type": "execute_result"
    }
   ],
   "source": [
    "quick = sudata[sudata['backtracks'] <= 10]\n",
    "quick.describe()"
   ]
  },
  {
   "cell_type": "code",
   "execution_count": 20,
   "metadata": {},
   "outputs": [
    {
     "data": {
      "image/png": "[encoded data removed]",
      "text/plain": [
       "<Figure size 432x288 with 2 Axes>"
      ]
     },
     "metadata": {
      "needs_background": "light"
     },
     "output_type": "display_data"
    }
   ],
   "source": [
    "quick.hist(rwidth=.9, bins=11);"
   ]
  },
  {
   "cell_type": "markdown",
   "metadata": {},
   "source": [
    "# Verifying Correctness\n",
    "\n",
    "How do we know this program (or any program) is correct? Traditionally, there are four kinds of evidence:\n",
    "- A large number of example input/output pairs that give the right answer.\n",
    "- Manual inspection of a smaller number of example input/output pairs.\n",
    "- A suite of unit tests to verify that components function properly (at least on some inputs).\n",
    "- A formal roof that the code is correct (or at least an outline of an argument for a partial proof).\n",
    "\n",
    "For this program:\n",
    "- Unless `-noverify` is given, every puzzle/solution pair is verified with the `verify` method to make sure:\n",
    "  - Each square in the solution contains a single digit. \n",
    "  - Each unit in the solution contains all nine digits.\n",
    "  - Squares in the puzzle that are filled with a digit keep that same digit in the solution.\n",
    "- I have looked at some example solutions and double-checked some with an [online Sudoku](https://sudokuspoiler.azurewebsites.net/) program. [LGTM](https://www.dictionary.com/e/acronyms/lgtm/).\n",
    "- The `-u` option runs a suite of unit tests.\n",
    "- I have looked at the code carefully, but I am nowhere near a proof of correctness.\n"
   ]
  },
  {
   "cell_type": "code",
   "execution_count": 21,
   "metadata": {},
   "outputs": [
    {
     "name": "stdout",
     "output_type": "stream",
     "text": [
      "Unit tests pass.\n"
     ]
    }
   ],
   "source": [
    "!java Sudoku -u  "
   ]
  },
  {
   "cell_type": "markdown",
   "metadata": {},
   "source": [
    "You can manually inspect these puzzle/solution pairs:"
   ]
  },
  {
   "cell_type": "code",
   "execution_count": 22,
   "metadata": {},
   "outputs": [
    {
     "name": "stdout",
     "output_type": "stream",
     "text": [
      "\n",
      "Puzzle 1:                   Solution:\n",
      "8 5 . | . . 2 | 4 . .       8 5 9 | 6 1 2 | 4 3 7 \n",
      "7 2 . | . . . | . . 9       7 2 3 | 8 5 4 | 1 6 9 \n",
      ". . 4 | . . . | . . .       1 6 4 | 3 7 9 | 5 2 8 \n",
      "------+-------+------       ------+-------+------\n",
      ". . . | 1 . 7 | . . 2       9 8 6 | 1 4 7 | 3 5 2 \n",
      "3 . 5 | . . . | 9 . .       3 7 5 | 2 6 8 | 9 1 4 \n",
      ". 4 . | . . . | . . .       2 4 1 | 5 9 3 | 7 8 6 \n",
      "------+-------+------       ------+-------+------\n",
      ". . . | . 8 . | . 7 .       4 3 2 | 9 8 1 | 6 7 5 \n",
      ". 1 7 | . . . | . . .       6 1 7 | 4 2 5 | 8 9 3 \n",
      ". . . | . 3 6 | . 4 .       5 9 8 | 7 3 6 | 2 4 1 \n",
      "\n",
      "Puzzle 2:                   Solution:\n",
      ". . 5 | 3 . . | . . .       1 4 5 | 3 2 7 | 6 9 8 \n",
      "8 . . | . . . | . 2 .       8 3 9 | 6 5 4 | 1 2 7 \n",
      ". 7 . | . 1 . | 5 . .       6 7 2 | 9 1 8 | 5 4 3 \n",
      "------+-------+------       ------+-------+------\n",
      "4 . . | . . 5 | 3 . .       4 9 6 | 1 8 5 | 3 7 2 \n",
      ". 1 . | . 7 . | . . 6       2 1 8 | 4 7 3 | 9 5 6 \n",
      ". . 3 | 2 . . | . 8 .       7 5 3 | 2 9 6 | 4 8 1 \n",
      "------+-------+------       ------+-------+------\n",
      ". 6 . | 5 . . | . . 9       3 6 7 | 5 4 2 | 8 1 9 \n",
      ". . 4 | . . . | . 3 .       9 8 4 | 7 6 1 | 2 3 5 \n",
      ". . . | . . 9 | 7 . .       5 2 1 | 8 3 9 | 7 6 4 \n",
      "\n",
      "Puzzle 3:                   Solution:\n",
      "1 2 . | . 4 . | . . .       1 2 8 | 5 4 7 | 6 3 9 \n",
      ". . 5 | . 6 9 | . 1 .       3 4 5 | 8 6 9 | 2 1 7 \n",
      ". . 9 | . . . | 5 . .       6 7 9 | 2 1 3 | 5 4 8 \n",
      "------+-------+------       ------+-------+------\n",
      ". . . | . . . | . 7 .       9 1 2 | 4 8 6 | 3 7 5 \n",
      "7 . . | . 5 2 | . 9 .       7 8 4 | 3 5 2 | 1 9 6 \n",
      ". 3 . | . . . | . . 2       5 3 6 | 7 9 1 | 4 8 2 \n",
      "------+-------+------       ------+-------+------\n",
      ". 9 . | 6 . . | . 5 .       8 9 1 | 6 2 4 | 7 5 3 \n",
      "4 . . | 9 . . | 8 . 1       4 6 7 | 9 3 5 | 8 2 1 \n",
      ". . 3 | . . . | 9 . 4       2 5 3 | 1 7 8 | 9 6 4 \n",
      "\n",
      "Puzzle 4:                   Solution:\n",
      ". . . | 5 7 . | . 3 .       6 2 4 | 5 7 8 | 1 3 9 \n",
      "1 . . | . . . | . 2 .       1 3 5 | 4 9 6 | 8 2 7 \n",
      "7 . . | . 2 3 | 4 . .       7 8 9 | 1 2 3 | 4 5 6 \n",
      "------+-------+------       ------+-------+------\n",
      ". . . | . 8 . | . . 4       2 1 6 | 3 8 5 | 7 9 4 \n",
      ". . 7 | . . 4 | . . .       8 5 7 | 9 6 4 | 2 1 3 \n",
      "4 9 . | . . . | 6 . 5       4 9 3 | 2 1 7 | 6 8 5 \n",
      "------+-------+------       ------+-------+------\n",
      ". 4 2 | . . . | 3 . .       9 4 2 | 6 5 1 | 3 7 8 \n",
      ". . . | 7 . . | 9 . .       5 6 8 | 7 3 2 | 9 4 1 \n",
      ". . 1 | 8 . . | . . .       3 7 1 | 8 4 9 | 5 6 2 \n",
      "\n",
      "Puzzle 5:                   Solution:\n",
      "1 . . | . . 7 | . 9 .       1 6 2 | 8 5 7 | 4 9 3 \n",
      ". 3 . | . 2 . | . . 8       5 3 4 | 1 2 9 | 6 7 8 \n",
      ". . 9 | 6 . . | 5 . .       7 8 9 | 6 4 3 | 5 2 1 \n",
      "------+-------+------       ------+-------+------\n",
      ". . 5 | 3 . . | 9 . .       4 7 5 | 3 1 2 | 9 8 6 \n",
      ". 1 . | . 8 . | . . 2       9 1 3 | 5 8 6 | 7 4 2 \n",
      "6 . . | . . 4 | . . .       6 2 8 | 7 9 4 | 1 3 5 \n",
      "------+-------+------       ------+-------+------\n",
      "3 . . | . . . | . 1 .       3 5 6 | 4 7 8 | 2 1 9 \n",
      ". 4 . | . . . | . . 7       2 4 1 | 9 3 5 | 8 6 7 \n",
      ". . 7 | . . . | 3 . .       8 9 7 | 2 6 1 | 3 5 4 \n",
      "\n",
      "Puzzle 6:                   Solution:\n",
      "1 . . | . 3 4 | . 8 .       1 5 2 | 9 3 4 | 6 8 7 \n",
      ". . . | 8 . . | 5 . .       7 6 3 | 8 2 1 | 5 4 9 \n",
      ". . 4 | . 6 . | . 2 1       9 8 4 | 5 6 7 | 3 2 1 \n",
      "------+-------+------       ------+-------+------\n",
      ". 1 8 | . . . | . . .       6 1 8 | 4 9 3 | 2 7 5 \n",
      "3 . . | 1 . 2 | . . 6       3 7 5 | 1 8 2 | 4 9 6 \n",
      ". . . | . . . | 8 1 .       2 4 9 | 7 5 6 | 8 1 3 \n",
      "------+-------+------       ------+-------+------\n",
      "5 2 . | . 7 . | 9 . .       5 2 1 | 3 7 8 | 9 6 4 \n",
      ". . 6 | . . 9 | . . .       4 3 6 | 2 1 9 | 7 5 8 \n",
      ". 9 . | 6 4 . | . . 2       8 9 7 | 6 4 5 | 1 3 2 \n",
      "\n",
      "Puzzle 7:                   Solution:\n",
      ". . . | 9 2 . | . . .       3 8 7 | 9 2 6 | 4 1 5 \n",
      ". . 6 | 8 . 3 | . . .       5 4 6 | 8 1 3 | 9 7 2 \n",
      "1 9 . | . 7 . | . . 6       1 9 2 | 4 7 5 | 8 3 6 \n",
      "------+-------+------       ------+-------+------\n",
      "2 3 . | . 4 . | 1 . .       2 3 5 | 7 4 9 | 1 6 8 \n",
      ". . 1 | . . . | 7 . .       9 6 1 | 2 5 8 | 7 4 3 \n",
      ". . 8 | . 3 . | . 2 9       4 7 8 | 6 3 1 | 5 2 9 \n",
      "------+-------+------       ------+-------+------\n",
      "7 . . | . 8 . | . 9 1       7 5 4 | 3 8 2 | 6 9 1 \n",
      ". . . | 5 . 7 | 2 . .       6 1 3 | 5 9 7 | 2 8 4 \n",
      ". . . | . 6 4 | . . .       8 2 9 | 1 6 4 | 3 5 7 \n",
      "\n",
      "Puzzle 8:                   Solution:\n",
      ". 6 . | 5 . 4 | . 3 .       8 6 9 | 5 7 4 | 1 3 2 \n",
      "1 . . | . 9 . | . . 8       1 2 4 | 3 9 6 | 7 5 8 \n",
      ". . . | . . . | . . .       3 7 5 | 1 2 8 | 6 9 4 \n",
      "------+-------+------       ------+-------+------\n",
      "9 . . | . 5 . | . . 6       9 3 2 | 8 5 7 | 4 1 6 \n",
      ". 4 . | 6 . 2 | . 7 .       5 4 1 | 6 3 2 | 8 7 9 \n",
      "7 . . | . 4 . | . . 5       7 8 6 | 9 4 1 | 3 2 5 \n",
      "------+-------+------       ------+-------+------\n",
      ". . . | . . . | . . .       2 1 7 | 4 6 9 | 5 8 3 \n",
      "4 . . | . 8 . | . . 1       4 9 3 | 7 8 5 | 2 6 1 \n",
      ". 5 . | 2 . 3 | . 4 .       6 5 8 | 2 1 3 | 9 4 7 \n",
      "\n",
      "Puzzle 9:                   Solution:\n",
      "7 . . | . . . | 4 . .       7 9 8 | 6 3 5 | 4 2 1 \n",
      ". 2 . | . 7 . | . 8 .       1 2 6 | 9 7 4 | 5 8 3 \n",
      ". . 3 | . . 8 | . 7 9       4 5 3 | 2 1 8 | 6 7 9 \n",
      "------+-------+------       ------+-------+------\n",
      "9 . . | 5 . . | 3 . .       9 7 2 | 5 8 6 | 3 1 4 \n",
      ". 6 . | . 2 . | . 9 .       5 6 4 | 1 2 3 | 8 9 7 \n",
      ". . 1 | . 9 7 | . . 6       3 8 1 | 4 9 7 | 2 5 6 \n",
      "------+-------+------       ------+-------+------\n",
      ". . . | 3 . . | 9 . .       6 1 7 | 3 5 2 | 9 4 8 \n",
      ". 3 . | . 4 . | . 6 .       8 3 5 | 7 4 9 | 1 6 2 \n",
      ". . 9 | . . 1 | . 3 5       2 4 9 | 8 6 1 | 7 3 5 \n",
      "\n",
      "Puzzle 10:                  Solution:\n",
      ". . . | . 7 . | . 2 .       5 9 4 | 8 7 6 | 1 2 3 \n",
      "8 . . | . . . | . . 6       8 2 3 | 9 1 4 | 7 5 6 \n",
      ". 1 . | 2 . 5 | . . .       6 1 7 | 2 3 5 | 8 9 4 \n",
      "------+-------+------       ------+-------+------\n",
      "9 . 5 | 4 . . | . . 8       9 6 5 | 4 2 1 | 3 7 8 \n",
      ". . . | . . . | . . .       7 8 1 | 6 5 3 | 9 4 2 \n",
      "3 . . | . . 8 | 5 . 1       3 4 2 | 7 9 8 | 5 6 1 \n",
      "------+-------+------       ------+-------+------\n",
      ". . . | 3 . 2 | . 8 .       1 5 9 | 3 4 2 | 6 8 7 \n",
      "4 . . | . . . | . . 9       4 3 6 | 5 8 7 | 2 1 9 \n",
      ". 7 . | . 6 . | . . .       2 7 8 | 1 6 9 | 4 3 5 \n"
     ]
    }
   ],
   "source": [
    "!java Sudoku -grid -nofile hardest.txt "
   ]
  },
  {
   "cell_type": "markdown",
   "metadata": {},
   "source": [
    "# What's Next?\n",
    "\n",
    "There are a few things I didn't get a chance to explore; maybe you can:\n",
    "\n",
    "- Would the program be even faster in Golang or C++ or Rust? Or with some more optimizations?\n",
    "- The depth-first search makes a choice to *fill* some square with a digit. What if instead the choice was to *eliminate* a digit from the square? At first glance it seems that would be slower, because more choices would be required, but would constraint propagation make it work well?\n",
    "- On each recursive call, the depth-first search copies the current grid into a new grid (re-using the one in `gridpool[level]`). That requires copying an array of 81 ints. Would it be faster to instead make changes directly to the current grid, and then undo the changes when failure is detected? You would need to keep track of the changes made so that they can be undone. My guess is that this would make the code more complex and not much faster (if any), but you might want to try it.\n",
    "- In the theory of constraint propagation, [shaving](https://citeseerx.ist.psu.edu/viewdoc/download?doi=10.1.1.175.7143&rep=rep1&type=pdf) means guessing a value for some variable, detecting a contradiction, and then keeping track of the fact that the value is not possible. But in our program, when we guess wrong we don't keep track of anything. Can the program be made faster by incorporating shaving?\n",
    "- Can you create an adversarial puzzle, where the program guesses wrong the maximal number of times? In other words, if you draw a tree of choices, what's a puzzle with a tree that has the solution in the bottom-right corner? How much time and how many backtracks does that puzzle take to solve?\n",
    "- What [other Sudoku strategies](https://bestofsudoku.com/sudoku-strategy) can be implemented? Can you find a suite of strategies that will solve all the puzzles with no search? \n",
    "- Can you develop a system to rank the difficulty of puzzles, based on the complexity of the strategies needed to solve it?\n",
    "- Can you explain the mystery of the outliers?\n",
    "\n",
    "One final word: I finally got around to writing this up after a friend mentioned to me \"*Hey, a while back didn't you do a Sudoku program that could solve like a dozen puzzles a second or something?*\" I felt like Robert Wagner when he had to explain to Dr. Evil that \"a million dollars isn't exactly a lot of money these days,\" or in this case \"12 Hz isn't exactly a lot of puzzles.\" So this is for all of you who were cryogenically frozen in 1967 (and for all of you who weren't).\n",
    "\n",
    "<center>\n",
    "<img src=\"https://upload.wikimedia.org/wikipedia/en/1/16/Drevil_million_dollars.jpg\">\n",
    "<br><i>\"One <b>dozen</b> puzzles per second\"</i>\n",
    "</center>"
   ]
  }
 ],
 "metadata": {
  "kernelspec": {
   "display_name": "Python 3",
   "language": "python",
   "name": "python3"
  },
  "language_info": {
   "codemirror_mode": {
    "name": "ipython",
    "version": 3
   },
   "file_extension": ".py",
   "mimetype": "text/x-python",
   "name": "python",
   "nbconvert_exporter": "python",
   "pygments_lexer": "ipython3",
   "version": "3.7.6"
  }
 },
 "nbformat": 4,
 "nbformat_minor": 4
}
